{
 "cells": [
  {
   "cell_type": "markdown",
   "metadata": {
    "id": "onl2AkZOcEE5"
   },
   "source": [
    "# Luxury Beauty Products Sentiment Analysis using Amazon Customer Reviews\r\n",
    "\r\n",
    "*Team 11*\r\n",
    "\r\n",
    "*Members - Ajay Valecha, Akshay Oza, Anmol Kapoor*"
   ]
  },
  {
   "cell_type": "markdown",
   "metadata": {
    "id": "OdxrPyY0G_Zv"
   },
   "source": [
    "## Problem and Approach\r\n",
    "\r\n",
    "**What is the Problem?**\r\n",
    "\r\n",
    "E-commerce has become popular in the last decade. Thousands of products are sold through platforms like Amazon, eBay, etc. One of the biggest advantages of e-commerce platforms for both customers and sellers alike is an option to rate and review the products. These reviews can be used by businesses to make major business decisions based on price optimization, demand forecasts, product comparison with the competition. In the real world situation, businesses don’t have access to the sentiment label of the reviews provided by the customers. Through this project, we would like to explore different ways of  unsupervised sentiment analysis for luxury beauty products sold on Amazon and find insights for the features that work for the brand.\r\n",
    "\r\n",
    "Today Luxury Beauty Products globally is 126 Billion USD Market with 18.8 Billion USD in US alone. More than 2000 products are sold on Amazon with wide range of brands, price and categories. \r\n",
    "\r\n",
    "**Who benefits?**\r\n",
    "\r\n",
    "Luxury Beauty brands and Market Researchers/ Data Scientists who are involved in this kind of analysis.\r\n",
    "\r\n",
    "\r\n",
    "\r\n",
    "\r\n"
   ]
  },
  {
   "cell_type": "markdown",
   "metadata": {
    "id": "pSit-DyaG8CS"
   },
   "source": [
    "## Data Cleaning and Processing "
   ]
  },
  {
   "cell_type": "markdown",
   "metadata": {
    "id": "3nNPK3IJRzcc"
   },
   "source": [
    "### Data Structure and Dictionary\r\n",
    "\r\n",
    "*Data Credit : Jianmo Ni, J. L. (2019). Justifying recommendations using distantly-labeled reviews and fined-grained aspects. . Empirical Methods in Natural Language Processing (EMNLP).*\r\n",
    "\r\n",
    "\r\n",
    "**Some important variables**\r\n",
    "\r\n",
    "`reviews.json`\r\n",
    "\r\n",
    "-   reviewerID - ID of the reviewer, e.g. A2SUAM1J3GNN3B\r\n",
    "- \tasin - ID of the product, e.g. 0000013714\r\n",
    "- \treviewerName - name of the reviewer\r\n",
    "- \tvote - helpful votes of the review\r\n",
    "-   style - a dictionary of the product metadata, e.g., \"Format\" is \"Hardcover\"\r\n",
    "- **reviewText - text of the review**\r\n",
    "-\toverall - rating of the product\r\n",
    "-\tsummary - summary of the review\r\n",
    "\r\n",
    "`meta_data.json`\r\n",
    "\r\n",
    "-\tasin - ID of the product, e.g. 0000031852\r\n",
    "-\ttitle - name of the product\r\n",
    "- description - description of the product\r\n",
    "- price - price in US dollars (at time of crawl)\r\n",
    "\r\n",
    "\r\n",
    "\r\n",
    "\r\n"
   ]
  },
  {
   "cell_type": "markdown",
   "metadata": {
    "id": "jrxWhv9oa_Zr"
   },
   "source": [
    "### Installing and Importing Required Libraries"
   ]
  },
  {
   "cell_type": "code",
   "execution_count": null,
   "metadata": {
    "id": "zu7Sz8k8Yaod"
   },
   "outputs": [],
   "source": [
    "# Install following packages\r\n",
    "#We used Google Colab. So had to mount the drive as well \r\n",
    "!pip install spacy\r\n",
    "!pip install nltk\r\n",
    "!pip install SimpSom\r\n",
    "!pip install gensim\r\n",
    "!pip install vaderSentiment"
   ]
  },
  {
   "cell_type": "code",
   "execution_count": null,
   "metadata": {
    "id": "f9fJbgvnY0tU"
   },
   "outputs": [],
   "source": [
    "#Import \r\n",
    "import pandas as pd\r\n",
    "import numpy as np\r\n",
    "import matplotlib.pyplot as plt\r\n",
    "plt.style.use(\"ggplot\")\r\n",
    "import spacy\r\n",
    "import nltk\r\n",
    "import SimpSOM as sps\r\n",
    "from gensim.models import Word2Vec, KeyedVectors\r\n",
    "from sklearn.cluster import KMeans\r\n",
    "from sklearn.feature_extraction.text import TfidfVectorizer\r\n",
    "from sklearn.metrics import accuracy_score,precision_score,recall_score,f1_score, roc_curve, roc_auc_score\r\n",
    "import matplotlib as pyplot\r\n",
    "from sklearn.decomposition import TruncatedSVD\r\n",
    "\r\n",
    "# Note: Some packages have been imported later as well"
   ]
  },
  {
   "cell_type": "markdown",
   "metadata": {
    "id": "HYsrd0HEQ8av"
   },
   "source": [
    "### Loading, Merging and Cleaning the Data\r\n",
    "\r\n",
    "The process we used for data cleaning and saving the cleaned data is as follows:\r\n",
    "\r\n",
    "- Load the dataset, remove the duplicates from the meta data and merge the data\r\n",
    "- Delete the irrelevant columns, drop the null rows (wherever necessary), impute null values (wherever necessary)\r\n",
    "- Change the data type of certain columns and format them to create new columns\r\n",
    "- Save the `cleaned_data.json` with `gzip` compression\r\n",
    "- Filter the data for products with more than 3000 reviews\r\n",
    "- Save the `top_prod_reviews.json` with `gzip` compression\r\n"
   ]
  },
  {
   "cell_type": "code",
   "execution_count": null,
   "metadata": {
    "id": "vr_VONy3E6Jb"
   },
   "outputs": [],
   "source": [
    "path= \"/content/drive/MyDrive/DSPM/Luxury_Beauty.json.gz\" #change it according to your drive folder"
   ]
  },
  {
   "cell_type": "code",
   "execution_count": null,
   "metadata": {
    "id": "7AzYvlnPFuJ5"
   },
   "outputs": [],
   "source": [
    "def parse(path):\r\n",
    "  g = gzip.open(path, 'rb')\r\n",
    "  for l in g:\r\n",
    "    yield json.loads(l)\r\n",
    "\r\n",
    "def getDF(path):\r\n",
    "  i = 0\r\n",
    "  df = {}\r\n",
    "  for d in parse(path):\r\n",
    "    df[i] = d\r\n",
    "    i += 1\r\n",
    "  return pd.DataFrame.from_dict(df, orient='index')\r\n",
    "\r\n",
    "df = getDF(path)"
   ]
  },
  {
   "cell_type": "code",
   "execution_count": null,
   "metadata": {
    "colab": {
     "base_uri": "https://localhost:8080/"
    },
    "id": "qz39sZULF_Bx",
    "outputId": "4831b693-1995-4895-9e17-23b6063e4b25"
   },
   "outputs": [
    {
     "data": {
      "text/plain": [
       "(574628, 12)"
      ]
     },
     "execution_count": 7,
     "metadata": {
      "tags": []
     },
     "output_type": "execute_result"
    }
   ],
   "source": [
    "df.shape"
   ]
  },
  {
   "cell_type": "code",
   "execution_count": null,
   "metadata": {
    "colab": {
     "base_uri": "https://localhost:8080/",
     "height": 204
    },
    "id": "6Pj22D5qGA61",
    "outputId": "3b454fbc-995a-4283-ac14-7215f09a7917"
   },
   "outputs": [
    {
     "data": {
      "text/html": [
       "<div>\n",
       "<style scoped>\n",
       "    .dataframe tbody tr th:only-of-type {\n",
       "        vertical-align: middle;\n",
       "    }\n",
       "\n",
       "    .dataframe tbody tr th {\n",
       "        vertical-align: top;\n",
       "    }\n",
       "\n",
       "    .dataframe thead th {\n",
       "        text-align: right;\n",
       "    }\n",
       "</style>\n",
       "<table border=\"1\" class=\"dataframe\">\n",
       "  <thead>\n",
       "    <tr style=\"text-align: right;\">\n",
       "      <th></th>\n",
       "      <th>overall</th>\n",
       "      <th>vote</th>\n",
       "      <th>verified</th>\n",
       "      <th>reviewTime</th>\n",
       "      <th>reviewerID</th>\n",
       "      <th>asin</th>\n",
       "      <th>reviewerName</th>\n",
       "      <th>reviewText</th>\n",
       "      <th>summary</th>\n",
       "      <th>unixReviewTime</th>\n",
       "      <th>style</th>\n",
       "      <th>image</th>\n",
       "    </tr>\n",
       "  </thead>\n",
       "  <tbody>\n",
       "    <tr>\n",
       "      <th>0</th>\n",
       "      <td>2.0</td>\n",
       "      <td>3</td>\n",
       "      <td>True</td>\n",
       "      <td>06 15, 2010</td>\n",
       "      <td>A1Q6MUU0B2ZDQG</td>\n",
       "      <td>B00004U9V2</td>\n",
       "      <td>D. Poston</td>\n",
       "      <td>I bought two of these 8.5 fl oz hand cream, an...</td>\n",
       "      <td>dispensers don't work</td>\n",
       "      <td>1276560000</td>\n",
       "      <td>NaN</td>\n",
       "      <td>NaN</td>\n",
       "    </tr>\n",
       "    <tr>\n",
       "      <th>1</th>\n",
       "      <td>5.0</td>\n",
       "      <td>14</td>\n",
       "      <td>True</td>\n",
       "      <td>01 7, 2010</td>\n",
       "      <td>A3HO2SQDCZIE9S</td>\n",
       "      <td>B00004U9V2</td>\n",
       "      <td>chandra</td>\n",
       "      <td>Believe me, over the years I have tried many, ...</td>\n",
       "      <td>Best hand cream ever.</td>\n",
       "      <td>1262822400</td>\n",
       "      <td>NaN</td>\n",
       "      <td>NaN</td>\n",
       "    </tr>\n",
       "    <tr>\n",
       "      <th>2</th>\n",
       "      <td>5.0</td>\n",
       "      <td>NaN</td>\n",
       "      <td>True</td>\n",
       "      <td>04 18, 2018</td>\n",
       "      <td>A2EM03F99X3RJZ</td>\n",
       "      <td>B00004U9V2</td>\n",
       "      <td>Maureen G</td>\n",
       "      <td>Great hand lotion</td>\n",
       "      <td>Five Stars</td>\n",
       "      <td>1524009600</td>\n",
       "      <td>{'Size:': ' 3.5 oz.'}</td>\n",
       "      <td>NaN</td>\n",
       "    </tr>\n",
       "    <tr>\n",
       "      <th>3</th>\n",
       "      <td>5.0</td>\n",
       "      <td>NaN</td>\n",
       "      <td>True</td>\n",
       "      <td>04 18, 2018</td>\n",
       "      <td>A3Z74TDRGD0HU</td>\n",
       "      <td>B00004U9V2</td>\n",
       "      <td>Terry K</td>\n",
       "      <td>This is the best for the severely dry skin on ...</td>\n",
       "      <td>Five Stars</td>\n",
       "      <td>1524009600</td>\n",
       "      <td>{'Size:': ' 3.5 oz.'}</td>\n",
       "      <td>NaN</td>\n",
       "    </tr>\n",
       "    <tr>\n",
       "      <th>4</th>\n",
       "      <td>5.0</td>\n",
       "      <td>NaN</td>\n",
       "      <td>True</td>\n",
       "      <td>04 17, 2018</td>\n",
       "      <td>A2UXFNW9RTL4VM</td>\n",
       "      <td>B00004U9V2</td>\n",
       "      <td>Patricia Wood</td>\n",
       "      <td>The best non- oily hand cream ever. It heals o...</td>\n",
       "      <td>I always have a backup ready.</td>\n",
       "      <td>1523923200</td>\n",
       "      <td>{'Size:': ' 3.5 oz.'}</td>\n",
       "      <td>NaN</td>\n",
       "    </tr>\n",
       "  </tbody>\n",
       "</table>\n",
       "</div>"
      ],
      "text/plain": [
       "   overall vote  verified  ... unixReviewTime                  style image\n",
       "0      2.0    3      True  ...     1276560000                    NaN   NaN\n",
       "1      5.0   14      True  ...     1262822400                    NaN   NaN\n",
       "2      5.0  NaN      True  ...     1524009600  {'Size:': ' 3.5 oz.'}   NaN\n",
       "3      5.0  NaN      True  ...     1524009600  {'Size:': ' 3.5 oz.'}   NaN\n",
       "4      5.0  NaN      True  ...     1523923200  {'Size:': ' 3.5 oz.'}   NaN\n",
       "\n",
       "[5 rows x 12 columns]"
      ]
     },
     "execution_count": 8,
     "metadata": {
      "tags": []
     },
     "output_type": "execute_result"
    }
   ],
   "source": [
    "df.head()"
   ]
  },
  {
   "cell_type": "code",
   "execution_count": null,
   "metadata": {
    "id": "4kEiq4vFHEwG"
   },
   "outputs": [],
   "source": [
    "meta_df= getDF(\"/content/drive/MyDrive/DSPM/meta_Luxury_Beauty.json.gz\") #change path according to your drive folder"
   ]
  },
  {
   "cell_type": "code",
   "execution_count": null,
   "metadata": {
    "colab": {
     "base_uri": "https://localhost:8080/"
    },
    "id": "gxcilro3HQvA",
    "outputId": "a5a60e8d-5780-4fe2-ae8e-7aca1d49d793"
   },
   "outputs": [
    {
     "data": {
      "text/plain": [
       "(12299, 18)"
      ]
     },
     "execution_count": 11,
     "metadata": {
      "tags": []
     },
     "output_type": "execute_result"
    }
   ],
   "source": [
    "meta_df.shape"
   ]
  },
  {
   "cell_type": "code",
   "execution_count": null,
   "metadata": {
    "colab": {
     "base_uri": "https://localhost:8080/",
     "height": 425
    },
    "id": "Savpp5sTHTxF",
    "outputId": "d0319a1c-5a03-41ee-a997-bba956062c5d"
   },
   "outputs": [
    {
     "data": {
      "text/html": [
       "<div>\n",
       "<style scoped>\n",
       "    .dataframe tbody tr th:only-of-type {\n",
       "        vertical-align: middle;\n",
       "    }\n",
       "\n",
       "    .dataframe tbody tr th {\n",
       "        vertical-align: top;\n",
       "    }\n",
       "\n",
       "    .dataframe thead th {\n",
       "        text-align: right;\n",
       "    }\n",
       "</style>\n",
       "<table border=\"1\" class=\"dataframe\">\n",
       "  <thead>\n",
       "    <tr style=\"text-align: right;\">\n",
       "      <th></th>\n",
       "      <th>category</th>\n",
       "      <th>tech1</th>\n",
       "      <th>description</th>\n",
       "      <th>fit</th>\n",
       "      <th>title</th>\n",
       "      <th>also_buy</th>\n",
       "      <th>image</th>\n",
       "      <th>tech2</th>\n",
       "      <th>brand</th>\n",
       "      <th>feature</th>\n",
       "      <th>rank</th>\n",
       "      <th>also_view</th>\n",
       "      <th>details</th>\n",
       "      <th>main_cat</th>\n",
       "      <th>similar_item</th>\n",
       "      <th>date</th>\n",
       "      <th>price</th>\n",
       "      <th>asin</th>\n",
       "    </tr>\n",
       "  </thead>\n",
       "  <tbody>\n",
       "    <tr>\n",
       "      <th>0</th>\n",
       "      <td>[]</td>\n",
       "      <td></td>\n",
       "      <td>[After a long day of handling thorny situation...</td>\n",
       "      <td></td>\n",
       "      <td>Crabtree &amp;amp; Evelyn - Gardener's Ultra-Moist...</td>\n",
       "      <td>[B00GHX7H0A, B00FRERO7G, B00R68QXCS, B000Z65AZ...</td>\n",
       "      <td>[https://images-na.ssl-images-amazon.com/image...</td>\n",
       "      <td></td>\n",
       "      <td></td>\n",
       "      <td>[]</td>\n",
       "      <td>4,324 in Beauty &amp; Personal Care (</td>\n",
       "      <td>[B00FRERO7G, B00GHX7H0A, B07GFHJRMX, B00TJ3NBN...</td>\n",
       "      <td>{'\n",
       "    Product Dimensions: \n",
       "    ': '2.2 x 2.2 ...</td>\n",
       "      <td>Luxury Beauty</td>\n",
       "      <td></td>\n",
       "      <td></td>\n",
       "      <td>$30.00</td>\n",
       "      <td>B00004U9V2</td>\n",
       "    </tr>\n",
       "    <tr>\n",
       "      <th>1</th>\n",
       "      <td>[]</td>\n",
       "      <td></td>\n",
       "      <td>[If you haven't experienced the pleasures of b...</td>\n",
       "      <td></td>\n",
       "      <td>AHAVA Bath Salts</td>\n",
       "      <td>[]</td>\n",
       "      <td>[]</td>\n",
       "      <td></td>\n",
       "      <td></td>\n",
       "      <td>[]</td>\n",
       "      <td>1,633,549 in Beauty &amp; Personal Care (</td>\n",
       "      <td>[]</td>\n",
       "      <td>{'\n",
       "    Product Dimensions: \n",
       "    ': '3 x 3.5 x ...</td>\n",
       "      <td>Luxury Beauty</td>\n",
       "      <td></td>\n",
       "      <td></td>\n",
       "      <td></td>\n",
       "      <td>B0000531EN</td>\n",
       "    </tr>\n",
       "    <tr>\n",
       "      <th>2</th>\n",
       "      <td>[]</td>\n",
       "      <td></td>\n",
       "      <td>[Rich, black mineral mud, harvested from the b...</td>\n",
       "      <td></td>\n",
       "      <td>AHAVA Dead Sea Mineral Mud, 8.5 oz, Pack of 4</td>\n",
       "      <td>[]</td>\n",
       "      <td>[https://images-na.ssl-images-amazon.com/image...</td>\n",
       "      <td></td>\n",
       "      <td></td>\n",
       "      <td>[]</td>\n",
       "      <td>1,806,710 in Beauty &amp;amp; Personal Care (</td>\n",
       "      <td>[]</td>\n",
       "      <td>{'\n",
       "    Product Dimensions: \n",
       "    ': '5.1 x 3 x ...</td>\n",
       "      <td>Luxury Beauty</td>\n",
       "      <td></td>\n",
       "      <td></td>\n",
       "      <td></td>\n",
       "      <td>B0000532JH</td>\n",
       "    </tr>\n",
       "    <tr>\n",
       "      <th>3</th>\n",
       "      <td>[]</td>\n",
       "      <td></td>\n",
       "      <td>[This liquid soap with convenient pump dispens...</td>\n",
       "      <td></td>\n",
       "      <td>Crabtree &amp;amp; Evelyn Hand Soap, Gardeners, 10...</td>\n",
       "      <td>[]</td>\n",
       "      <td>[https://images-na.ssl-images-amazon.com/image...</td>\n",
       "      <td></td>\n",
       "      <td></td>\n",
       "      <td>[]</td>\n",
       "      <td>[]</td>\n",
       "      <td>[B00004U9V2, B00GHX7H0A, B00FRERO7G, B00R68QXC...</td>\n",
       "      <td>{'\n",
       "    Product Dimensions: \n",
       "    ': '2.6 x 2.6 ...</td>\n",
       "      <td>Luxury Beauty</td>\n",
       "      <td></td>\n",
       "      <td></td>\n",
       "      <td>$15.99</td>\n",
       "      <td>B00005A77F</td>\n",
       "    </tr>\n",
       "    <tr>\n",
       "      <th>4</th>\n",
       "      <td>[]</td>\n",
       "      <td></td>\n",
       "      <td>[Remember why you love your favorite blanket? ...</td>\n",
       "      <td></td>\n",
       "      <td>Soy Milk Hand Crme</td>\n",
       "      <td>[B000NZT6KM, B001BY229Q, B008J724QY, B0009YGKJ...</td>\n",
       "      <td>[https://images-na.ssl-images-amazon.com/image...</td>\n",
       "      <td></td>\n",
       "      <td></td>\n",
       "      <td>[]</td>\n",
       "      <td>42,464 in Beauty &amp;amp; Personal Care (</td>\n",
       "      <td>[]</td>\n",
       "      <td>{'\n",
       "    Product Dimensions: \n",
       "    ': '7.2 x 2.2 ...</td>\n",
       "      <td>Luxury Beauty</td>\n",
       "      <td></td>\n",
       "      <td></td>\n",
       "      <td>$18.00</td>\n",
       "      <td>B00005NDTD</td>\n",
       "    </tr>\n",
       "  </tbody>\n",
       "</table>\n",
       "</div>"
      ],
      "text/plain": [
       "  category tech1  ...   price        asin\n",
       "0       []        ...  $30.00  B00004U9V2\n",
       "1       []        ...          B0000531EN\n",
       "2       []        ...          B0000532JH\n",
       "3       []        ...  $15.99  B00005A77F\n",
       "4       []        ...  $18.00  B00005NDTD\n",
       "\n",
       "[5 rows x 18 columns]"
      ]
     },
     "execution_count": 13,
     "metadata": {
      "tags": []
     },
     "output_type": "execute_result"
    }
   ],
   "source": [
    "meta_df.head()"
   ]
  },
  {
   "cell_type": "code",
   "execution_count": null,
   "metadata": {
    "id": "up8zkITyr8sH"
   },
   "outputs": [],
   "source": [
    "meta_df_nodups= meta_df.loc[meta_df.astype(str).drop_duplicates().index] #deleting duplicate rows "
   ]
  },
  {
   "cell_type": "code",
   "execution_count": null,
   "metadata": {
    "id": "rARJYmVOIL5B"
   },
   "outputs": [],
   "source": [
    "merge_df= df.merge(meta_df_nodups, on=\"asin\")#merging the dataframes"
   ]
  },
  {
   "cell_type": "code",
   "execution_count": null,
   "metadata": {
    "colab": {
     "base_uri": "https://localhost:8080/"
    },
    "id": "63plnu19K4Gi",
    "outputId": "51163738-6f21-40e7-ab8a-8b8e01e1e4ea"
   },
   "outputs": [
    {
     "data": {
      "text/plain": [
       "(574338, 29)"
      ]
     },
     "execution_count": 16,
     "metadata": {
      "tags": []
     },
     "output_type": "execute_result"
    }
   ],
   "source": [
    "merge_df.shape"
   ]
  },
  {
   "cell_type": "code",
   "execution_count": null,
   "metadata": {
    "colab": {
     "base_uri": "https://localhost:8080/",
     "height": 649
    },
    "id": "flMzbtAoNvn9",
    "outputId": "bb2bf14c-e195-4dc2-c02c-d4cf65d0d9a7"
   },
   "outputs": [
    {
     "data": {
      "text/html": [
       "<div>\n",
       "<style scoped>\n",
       "    .dataframe tbody tr th:only-of-type {\n",
       "        vertical-align: middle;\n",
       "    }\n",
       "\n",
       "    .dataframe tbody tr th {\n",
       "        vertical-align: top;\n",
       "    }\n",
       "\n",
       "    .dataframe thead th {\n",
       "        text-align: right;\n",
       "    }\n",
       "</style>\n",
       "<table border=\"1\" class=\"dataframe\">\n",
       "  <thead>\n",
       "    <tr style=\"text-align: right;\">\n",
       "      <th></th>\n",
       "      <th>overall</th>\n",
       "      <th>vote</th>\n",
       "      <th>verified</th>\n",
       "      <th>reviewTime</th>\n",
       "      <th>reviewerID</th>\n",
       "      <th>asin</th>\n",
       "      <th>reviewerName</th>\n",
       "      <th>reviewText</th>\n",
       "      <th>summary</th>\n",
       "      <th>unixReviewTime</th>\n",
       "      <th>style</th>\n",
       "      <th>image_x</th>\n",
       "      <th>category</th>\n",
       "      <th>tech1</th>\n",
       "      <th>description</th>\n",
       "      <th>fit</th>\n",
       "      <th>title</th>\n",
       "      <th>also_buy</th>\n",
       "      <th>image_y</th>\n",
       "      <th>tech2</th>\n",
       "      <th>brand</th>\n",
       "      <th>feature</th>\n",
       "      <th>rank</th>\n",
       "      <th>also_view</th>\n",
       "      <th>details</th>\n",
       "      <th>main_cat</th>\n",
       "      <th>similar_item</th>\n",
       "      <th>date</th>\n",
       "      <th>price</th>\n",
       "    </tr>\n",
       "  </thead>\n",
       "  <tbody>\n",
       "    <tr>\n",
       "      <th>0</th>\n",
       "      <td>2.0</td>\n",
       "      <td>3</td>\n",
       "      <td>True</td>\n",
       "      <td>06 15, 2010</td>\n",
       "      <td>A1Q6MUU0B2ZDQG</td>\n",
       "      <td>B00004U9V2</td>\n",
       "      <td>D. Poston</td>\n",
       "      <td>I bought two of these 8.5 fl oz hand cream, an...</td>\n",
       "      <td>dispensers don't work</td>\n",
       "      <td>1276560000</td>\n",
       "      <td>NaN</td>\n",
       "      <td>NaN</td>\n",
       "      <td>[]</td>\n",
       "      <td></td>\n",
       "      <td>[After a long day of handling thorny situation...</td>\n",
       "      <td></td>\n",
       "      <td>Crabtree &amp;amp; Evelyn - Gardener's Ultra-Moist...</td>\n",
       "      <td>[B00GHX7H0A, B00FRERO7G, B00R68QXCS, B000Z65AZ...</td>\n",
       "      <td>[https://images-na.ssl-images-amazon.com/image...</td>\n",
       "      <td></td>\n",
       "      <td></td>\n",
       "      <td>[]</td>\n",
       "      <td>4,324 in Beauty &amp; Personal Care (</td>\n",
       "      <td>[B00FRERO7G, B00GHX7H0A, B07GFHJRMX, B00TJ3NBN...</td>\n",
       "      <td>{'\n",
       "    Product Dimensions: \n",
       "    ': '2.2 x 2.2 ...</td>\n",
       "      <td>Luxury Beauty</td>\n",
       "      <td></td>\n",
       "      <td></td>\n",
       "      <td>$30.00</td>\n",
       "    </tr>\n",
       "    <tr>\n",
       "      <th>1</th>\n",
       "      <td>5.0</td>\n",
       "      <td>14</td>\n",
       "      <td>True</td>\n",
       "      <td>01 7, 2010</td>\n",
       "      <td>A3HO2SQDCZIE9S</td>\n",
       "      <td>B00004U9V2</td>\n",
       "      <td>chandra</td>\n",
       "      <td>Believe me, over the years I have tried many, ...</td>\n",
       "      <td>Best hand cream ever.</td>\n",
       "      <td>1262822400</td>\n",
       "      <td>NaN</td>\n",
       "      <td>NaN</td>\n",
       "      <td>[]</td>\n",
       "      <td></td>\n",
       "      <td>[After a long day of handling thorny situation...</td>\n",
       "      <td></td>\n",
       "      <td>Crabtree &amp;amp; Evelyn - Gardener's Ultra-Moist...</td>\n",
       "      <td>[B00GHX7H0A, B00FRERO7G, B00R68QXCS, B000Z65AZ...</td>\n",
       "      <td>[https://images-na.ssl-images-amazon.com/image...</td>\n",
       "      <td></td>\n",
       "      <td></td>\n",
       "      <td>[]</td>\n",
       "      <td>4,324 in Beauty &amp; Personal Care (</td>\n",
       "      <td>[B00FRERO7G, B00GHX7H0A, B07GFHJRMX, B00TJ3NBN...</td>\n",
       "      <td>{'\n",
       "    Product Dimensions: \n",
       "    ': '2.2 x 2.2 ...</td>\n",
       "      <td>Luxury Beauty</td>\n",
       "      <td></td>\n",
       "      <td></td>\n",
       "      <td>$30.00</td>\n",
       "    </tr>\n",
       "    <tr>\n",
       "      <th>2</th>\n",
       "      <td>5.0</td>\n",
       "      <td>NaN</td>\n",
       "      <td>True</td>\n",
       "      <td>04 18, 2018</td>\n",
       "      <td>A2EM03F99X3RJZ</td>\n",
       "      <td>B00004U9V2</td>\n",
       "      <td>Maureen G</td>\n",
       "      <td>Great hand lotion</td>\n",
       "      <td>Five Stars</td>\n",
       "      <td>1524009600</td>\n",
       "      <td>{'Size:': ' 3.5 oz.'}</td>\n",
       "      <td>NaN</td>\n",
       "      <td>[]</td>\n",
       "      <td></td>\n",
       "      <td>[After a long day of handling thorny situation...</td>\n",
       "      <td></td>\n",
       "      <td>Crabtree &amp;amp; Evelyn - Gardener's Ultra-Moist...</td>\n",
       "      <td>[B00GHX7H0A, B00FRERO7G, B00R68QXCS, B000Z65AZ...</td>\n",
       "      <td>[https://images-na.ssl-images-amazon.com/image...</td>\n",
       "      <td></td>\n",
       "      <td></td>\n",
       "      <td>[]</td>\n",
       "      <td>4,324 in Beauty &amp; Personal Care (</td>\n",
       "      <td>[B00FRERO7G, B00GHX7H0A, B07GFHJRMX, B00TJ3NBN...</td>\n",
       "      <td>{'\n",
       "    Product Dimensions: \n",
       "    ': '2.2 x 2.2 ...</td>\n",
       "      <td>Luxury Beauty</td>\n",
       "      <td></td>\n",
       "      <td></td>\n",
       "      <td>$30.00</td>\n",
       "    </tr>\n",
       "    <tr>\n",
       "      <th>3</th>\n",
       "      <td>5.0</td>\n",
       "      <td>NaN</td>\n",
       "      <td>True</td>\n",
       "      <td>04 18, 2018</td>\n",
       "      <td>A3Z74TDRGD0HU</td>\n",
       "      <td>B00004U9V2</td>\n",
       "      <td>Terry K</td>\n",
       "      <td>This is the best for the severely dry skin on ...</td>\n",
       "      <td>Five Stars</td>\n",
       "      <td>1524009600</td>\n",
       "      <td>{'Size:': ' 3.5 oz.'}</td>\n",
       "      <td>NaN</td>\n",
       "      <td>[]</td>\n",
       "      <td></td>\n",
       "      <td>[After a long day of handling thorny situation...</td>\n",
       "      <td></td>\n",
       "      <td>Crabtree &amp;amp; Evelyn - Gardener's Ultra-Moist...</td>\n",
       "      <td>[B00GHX7H0A, B00FRERO7G, B00R68QXCS, B000Z65AZ...</td>\n",
       "      <td>[https://images-na.ssl-images-amazon.com/image...</td>\n",
       "      <td></td>\n",
       "      <td></td>\n",
       "      <td>[]</td>\n",
       "      <td>4,324 in Beauty &amp; Personal Care (</td>\n",
       "      <td>[B00FRERO7G, B00GHX7H0A, B07GFHJRMX, B00TJ3NBN...</td>\n",
       "      <td>{'\n",
       "    Product Dimensions: \n",
       "    ': '2.2 x 2.2 ...</td>\n",
       "      <td>Luxury Beauty</td>\n",
       "      <td></td>\n",
       "      <td></td>\n",
       "      <td>$30.00</td>\n",
       "    </tr>\n",
       "    <tr>\n",
       "      <th>4</th>\n",
       "      <td>5.0</td>\n",
       "      <td>NaN</td>\n",
       "      <td>True</td>\n",
       "      <td>04 17, 2018</td>\n",
       "      <td>A2UXFNW9RTL4VM</td>\n",
       "      <td>B00004U9V2</td>\n",
       "      <td>Patricia Wood</td>\n",
       "      <td>The best non- oily hand cream ever. It heals o...</td>\n",
       "      <td>I always have a backup ready.</td>\n",
       "      <td>1523923200</td>\n",
       "      <td>{'Size:': ' 3.5 oz.'}</td>\n",
       "      <td>NaN</td>\n",
       "      <td>[]</td>\n",
       "      <td></td>\n",
       "      <td>[After a long day of handling thorny situation...</td>\n",
       "      <td></td>\n",
       "      <td>Crabtree &amp;amp; Evelyn - Gardener's Ultra-Moist...</td>\n",
       "      <td>[B00GHX7H0A, B00FRERO7G, B00R68QXCS, B000Z65AZ...</td>\n",
       "      <td>[https://images-na.ssl-images-amazon.com/image...</td>\n",
       "      <td></td>\n",
       "      <td></td>\n",
       "      <td>[]</td>\n",
       "      <td>4,324 in Beauty &amp; Personal Care (</td>\n",
       "      <td>[B00FRERO7G, B00GHX7H0A, B07GFHJRMX, B00TJ3NBN...</td>\n",
       "      <td>{'\n",
       "    Product Dimensions: \n",
       "    ': '2.2 x 2.2 ...</td>\n",
       "      <td>Luxury Beauty</td>\n",
       "      <td></td>\n",
       "      <td></td>\n",
       "      <td>$30.00</td>\n",
       "    </tr>\n",
       "  </tbody>\n",
       "</table>\n",
       "</div>"
      ],
      "text/plain": [
       "   overall vote  verified   reviewTime  ...       main_cat similar_item date   price\n",
       "0      2.0    3      True  06 15, 2010  ...  Luxury Beauty                    $30.00\n",
       "1      5.0   14      True   01 7, 2010  ...  Luxury Beauty                    $30.00\n",
       "2      5.0  NaN      True  04 18, 2018  ...  Luxury Beauty                    $30.00\n",
       "3      5.0  NaN      True  04 18, 2018  ...  Luxury Beauty                    $30.00\n",
       "4      5.0  NaN      True  04 17, 2018  ...  Luxury Beauty                    $30.00\n",
       "\n",
       "[5 rows x 29 columns]"
      ]
     },
     "execution_count": 17,
     "metadata": {
      "tags": []
     },
     "output_type": "execute_result"
    }
   ],
   "source": [
    "merge_df.head()"
   ]
  },
  {
   "cell_type": "code",
   "execution_count": null,
   "metadata": {
    "colab": {
     "base_uri": "https://localhost:8080/",
     "height": 450
    },
    "id": "vQzLzyBzN3UZ",
    "outputId": "45c71d59-bbba-40aa-8520-bf646697da57"
   },
   "outputs": [
    {
     "data": {
      "text/html": [
       "<div>\n",
       "<style scoped>\n",
       "    .dataframe tbody tr th:only-of-type {\n",
       "        vertical-align: middle;\n",
       "    }\n",
       "\n",
       "    .dataframe tbody tr th {\n",
       "        vertical-align: top;\n",
       "    }\n",
       "\n",
       "    .dataframe thead th {\n",
       "        text-align: right;\n",
       "    }\n",
       "</style>\n",
       "<table border=\"1\" class=\"dataframe\">\n",
       "  <thead>\n",
       "    <tr style=\"text-align: right;\">\n",
       "      <th></th>\n",
       "      <th>reviewerID</th>\n",
       "    </tr>\n",
       "    <tr>\n",
       "      <th>asin</th>\n",
       "      <th></th>\n",
       "    </tr>\n",
       "  </thead>\n",
       "  <tbody>\n",
       "    <tr>\n",
       "      <th>B0013U0EYI</th>\n",
       "      <td>6954</td>\n",
       "    </tr>\n",
       "    <tr>\n",
       "      <th>B00172O9NO</th>\n",
       "      <td>6138</td>\n",
       "    </tr>\n",
       "    <tr>\n",
       "      <th>B00176GSEI</th>\n",
       "      <td>5262</td>\n",
       "    </tr>\n",
       "    <tr>\n",
       "      <th>B0017SWIU4</th>\n",
       "      <td>4300</td>\n",
       "    </tr>\n",
       "    <tr>\n",
       "      <th>B0002ZW5UQ</th>\n",
       "      <td>3460</td>\n",
       "    </tr>\n",
       "    <tr>\n",
       "      <th>...</th>\n",
       "      <td>...</td>\n",
       "    </tr>\n",
       "    <tr>\n",
       "      <th>B00YZ3KWG0</th>\n",
       "      <td>1</td>\n",
       "    </tr>\n",
       "    <tr>\n",
       "      <th>B008H6MXCW</th>\n",
       "      <td>1</td>\n",
       "    </tr>\n",
       "    <tr>\n",
       "      <th>B008HRITQ0</th>\n",
       "      <td>1</td>\n",
       "    </tr>\n",
       "    <tr>\n",
       "      <th>B008J722AW</th>\n",
       "      <td>1</td>\n",
       "    </tr>\n",
       "    <tr>\n",
       "      <th>B01HJ2UY1G</th>\n",
       "      <td>1</td>\n",
       "    </tr>\n",
       "  </tbody>\n",
       "</table>\n",
       "<p>12111 rows × 1 columns</p>\n",
       "</div>"
      ],
      "text/plain": [
       "            reviewerID\n",
       "asin                  \n",
       "B0013U0EYI        6954\n",
       "B00172O9NO        6138\n",
       "B00176GSEI        5262\n",
       "B0017SWIU4        4300\n",
       "B0002ZW5UQ        3460\n",
       "...                ...\n",
       "B00YZ3KWG0           1\n",
       "B008H6MXCW           1\n",
       "B008HRITQ0           1\n",
       "B008J722AW           1\n",
       "B01HJ2UY1G           1\n",
       "\n",
       "[12111 rows x 1 columns]"
      ]
     },
     "execution_count": 19,
     "metadata": {
      "tags": []
     },
     "output_type": "execute_result"
    }
   ],
   "source": [
    "merge_df.groupby('asin')['reviewerID'].count().to_frame().sort_values(by='reviewerID',ascending=False) #counting and sorting number of reviews for each product"
   ]
  },
  {
   "cell_type": "markdown",
   "metadata": {
    "id": "L56jFQOmTNB1"
   },
   "source": [
    "**There are 12,000+ products in the dataset**"
   ]
  },
  {
   "cell_type": "code",
   "execution_count": null,
   "metadata": {
    "colab": {
     "base_uri": "https://localhost:8080/"
    },
    "id": "vipEdiKmOSQO",
    "outputId": "4b1d9c19-8c6e-4cff-f297-3881635516eb"
   },
   "outputs": [
    {
     "data": {
      "text/plain": [
       "Index(['overall', 'vote', 'verified', 'reviewTime', 'reviewerID', 'asin',\n",
       "       'reviewerName', 'reviewText', 'summary', 'unixReviewTime', 'style',\n",
       "       'image_x', 'category', 'tech1', 'description', 'fit', 'title',\n",
       "       'also_buy', 'image_y', 'tech2', 'brand', 'feature', 'rank', 'also_view',\n",
       "       'details', 'main_cat', 'similar_item', 'date', 'price'],\n",
       "      dtype='object')"
      ]
     },
     "execution_count": 20,
     "metadata": {
      "tags": []
     },
     "output_type": "execute_result"
    }
   ],
   "source": [
    "merge_df.columns #list of all columns"
   ]
  },
  {
   "cell_type": "code",
   "execution_count": null,
   "metadata": {
    "colab": {
     "base_uri": "https://localhost:8080/"
    },
    "id": "PAMpOmnQxJE9",
    "outputId": "2384d48f-96f3-4e99-bd77-c56a9d7093e1"
   },
   "outputs": [
    {
     "data": {
      "text/plain": [
       "overall                0\n",
       "vote              470739\n",
       "verified               0\n",
       "reviewTime             0\n",
       "reviewerID             0\n",
       "asin                   0\n",
       "reviewerName          31\n",
       "reviewText           399\n",
       "summary              183\n",
       "unixReviewTime         0\n",
       "style             323353\n",
       "image_x           566930\n",
       "category               0\n",
       "tech1                  0\n",
       "description            0\n",
       "fit                    0\n",
       "title                  0\n",
       "also_buy               0\n",
       "image_y                0\n",
       "tech2                  0\n",
       "brand                  0\n",
       "feature                0\n",
       "rank                   0\n",
       "also_view              0\n",
       "details                0\n",
       "main_cat               0\n",
       "similar_item           0\n",
       "date                   0\n",
       "price                  0\n",
       "dtype: int64"
      ]
     },
     "execution_count": 21,
     "metadata": {
      "tags": []
     },
     "output_type": "execute_result"
    }
   ],
   "source": [
    "merge_df.isnull().sum() #counting nulls"
   ]
  },
  {
   "cell_type": "code",
   "execution_count": null,
   "metadata": {
    "id": "gNQ8nJSiwm_d"
   },
   "outputs": [],
   "source": [
    "merge_df.drop(columns=['verified', 'reviewTime','unixReviewTime', 'style',\r\n",
    "       'image_x', 'category', 'tech1','image_y', 'tech2','main_cat', 'similar_item', 'date','brand','feature','details'],inplace=True)\r\n",
    "#drop irrelevant columns"
   ]
  },
  {
   "cell_type": "code",
   "execution_count": null,
   "metadata": {
    "id": "j8yuJI-H1rbS"
   },
   "outputs": [],
   "source": [
    "merge_df['rank_amazon']= merge_df['rank'].apply(lambda x: str(x)).str.replace(',','').str.extract(\"(\\d+)\")\r\n",
    "merge_df['rank_amazon']=pd.to_numeric(merge_df['rank_amazon']) #create a numeric column with rank"
   ]
  },
  {
   "cell_type": "code",
   "execution_count": null,
   "metadata": {
    "colab": {
     "base_uri": "https://localhost:8080/"
    },
    "id": "kuqsQfpt2aul",
    "outputId": "bb00758c-8147-450b-8701-7879036b6ac1"
   },
   "outputs": [
    {
     "data": {
      "text/plain": [
       "dtype('float64')"
      ]
     },
     "execution_count": 25,
     "metadata": {
      "tags": []
     },
     "output_type": "execute_result"
    }
   ],
   "source": [
    "merge_df['rank_amazon'].dtype"
   ]
  },
  {
   "cell_type": "code",
   "execution_count": null,
   "metadata": {
    "id": "gml_VsKc3PQi"
   },
   "outputs": [],
   "source": [
    "merge_df['description']= merge_df['description'].apply(lambda x: str(x))\r\n",
    "merge_df.head() #changing the dtype of description"
   ]
  },
  {
   "cell_type": "code",
   "execution_count": null,
   "metadata": {
    "id": "fAkOs5fm4Ana"
   },
   "outputs": [],
   "source": [
    "merge_df['desc']=merge_df['description'].apply(lambda x: x.replace('[',''))\r\n",
    "merge_df.head() #formatting description column"
   ]
  },
  {
   "cell_type": "code",
   "execution_count": null,
   "metadata": {
    "colab": {
     "base_uri": "https://localhost:8080/"
    },
    "id": "08mmdCej5kmm",
    "outputId": "3e29fcbe-cef2-4a44-f973-f8ba1bb235dc"
   },
   "outputs": [
    {
     "data": {
      "text/plain": [
       "(573764, 16)"
      ]
     },
     "execution_count": 28,
     "metadata": {
      "tags": []
     },
     "output_type": "execute_result"
    }
   ],
   "source": [
    "merge_df_copy= merge_df[merge_df['reviewText'].notnull()]\r\n",
    "merge_df_copy=merge_df_copy[merge_df_copy['summary'].notnull()]\r\n",
    "merge_df_copy.shape #removing null rows"
   ]
  },
  {
   "cell_type": "code",
   "execution_count": null,
   "metadata": {
    "colab": {
     "base_uri": "https://localhost:8080/",
     "height": 629
    },
    "id": "04baA9QG61aH",
    "outputId": "80aba03a-7298-43b7-878a-3b7864943277"
   },
   "outputs": [
    {
     "data": {
      "text/html": [
       "<div>\n",
       "<style scoped>\n",
       "    .dataframe tbody tr th:only-of-type {\n",
       "        vertical-align: middle;\n",
       "    }\n",
       "\n",
       "    .dataframe tbody tr th {\n",
       "        vertical-align: top;\n",
       "    }\n",
       "\n",
       "    .dataframe thead th {\n",
       "        text-align: right;\n",
       "    }\n",
       "</style>\n",
       "<table border=\"1\" class=\"dataframe\">\n",
       "  <thead>\n",
       "    <tr style=\"text-align: right;\">\n",
       "      <th></th>\n",
       "      <th>overall</th>\n",
       "      <th>vote</th>\n",
       "      <th>reviewerID</th>\n",
       "      <th>asin</th>\n",
       "      <th>reviewerName</th>\n",
       "      <th>reviewText</th>\n",
       "      <th>summary</th>\n",
       "      <th>description</th>\n",
       "      <th>fit</th>\n",
       "      <th>title</th>\n",
       "      <th>also_buy</th>\n",
       "      <th>rank</th>\n",
       "      <th>also_view</th>\n",
       "      <th>price</th>\n",
       "      <th>rank_amazon</th>\n",
       "      <th>desc</th>\n",
       "    </tr>\n",
       "  </thead>\n",
       "  <tbody>\n",
       "    <tr>\n",
       "      <th>0</th>\n",
       "      <td>2.0</td>\n",
       "      <td>3</td>\n",
       "      <td>A1Q6MUU0B2ZDQG</td>\n",
       "      <td>B00004U9V2</td>\n",
       "      <td>D. Poston</td>\n",
       "      <td>I bought two of these 8.5 fl oz hand cream, an...</td>\n",
       "      <td>dispensers don't work</td>\n",
       "      <td>['After a long day of handling thorny situatio...</td>\n",
       "      <td></td>\n",
       "      <td>Crabtree &amp;amp; Evelyn - Gardener's Ultra-Moist...</td>\n",
       "      <td>[B00GHX7H0A, B00FRERO7G, B00R68QXCS, B000Z65AZ...</td>\n",
       "      <td>4,324 in Beauty &amp; Personal Care (</td>\n",
       "      <td>[B00FRERO7G, B00GHX7H0A, B07GFHJRMX, B00TJ3NBN...</td>\n",
       "      <td>$30.00</td>\n",
       "      <td>4324.0</td>\n",
       "      <td>'After a long day of handling thorny situation...</td>\n",
       "    </tr>\n",
       "    <tr>\n",
       "      <th>1</th>\n",
       "      <td>5.0</td>\n",
       "      <td>14</td>\n",
       "      <td>A3HO2SQDCZIE9S</td>\n",
       "      <td>B00004U9V2</td>\n",
       "      <td>chandra</td>\n",
       "      <td>Believe me, over the years I have tried many, ...</td>\n",
       "      <td>Best hand cream ever.</td>\n",
       "      <td>['After a long day of handling thorny situatio...</td>\n",
       "      <td></td>\n",
       "      <td>Crabtree &amp;amp; Evelyn - Gardener's Ultra-Moist...</td>\n",
       "      <td>[B00GHX7H0A, B00FRERO7G, B00R68QXCS, B000Z65AZ...</td>\n",
       "      <td>4,324 in Beauty &amp; Personal Care (</td>\n",
       "      <td>[B00FRERO7G, B00GHX7H0A, B07GFHJRMX, B00TJ3NBN...</td>\n",
       "      <td>$30.00</td>\n",
       "      <td>4324.0</td>\n",
       "      <td>'After a long day of handling thorny situation...</td>\n",
       "    </tr>\n",
       "    <tr>\n",
       "      <th>2</th>\n",
       "      <td>5.0</td>\n",
       "      <td>0</td>\n",
       "      <td>A2EM03F99X3RJZ</td>\n",
       "      <td>B00004U9V2</td>\n",
       "      <td>Maureen G</td>\n",
       "      <td>Great hand lotion</td>\n",
       "      <td>Five Stars</td>\n",
       "      <td>['After a long day of handling thorny situatio...</td>\n",
       "      <td></td>\n",
       "      <td>Crabtree &amp;amp; Evelyn - Gardener's Ultra-Moist...</td>\n",
       "      <td>[B00GHX7H0A, B00FRERO7G, B00R68QXCS, B000Z65AZ...</td>\n",
       "      <td>4,324 in Beauty &amp; Personal Care (</td>\n",
       "      <td>[B00FRERO7G, B00GHX7H0A, B07GFHJRMX, B00TJ3NBN...</td>\n",
       "      <td>$30.00</td>\n",
       "      <td>4324.0</td>\n",
       "      <td>'After a long day of handling thorny situation...</td>\n",
       "    </tr>\n",
       "    <tr>\n",
       "      <th>3</th>\n",
       "      <td>5.0</td>\n",
       "      <td>0</td>\n",
       "      <td>A3Z74TDRGD0HU</td>\n",
       "      <td>B00004U9V2</td>\n",
       "      <td>Terry K</td>\n",
       "      <td>This is the best for the severely dry skin on ...</td>\n",
       "      <td>Five Stars</td>\n",
       "      <td>['After a long day of handling thorny situatio...</td>\n",
       "      <td></td>\n",
       "      <td>Crabtree &amp;amp; Evelyn - Gardener's Ultra-Moist...</td>\n",
       "      <td>[B00GHX7H0A, B00FRERO7G, B00R68QXCS, B000Z65AZ...</td>\n",
       "      <td>4,324 in Beauty &amp; Personal Care (</td>\n",
       "      <td>[B00FRERO7G, B00GHX7H0A, B07GFHJRMX, B00TJ3NBN...</td>\n",
       "      <td>$30.00</td>\n",
       "      <td>4324.0</td>\n",
       "      <td>'After a long day of handling thorny situation...</td>\n",
       "    </tr>\n",
       "    <tr>\n",
       "      <th>4</th>\n",
       "      <td>5.0</td>\n",
       "      <td>0</td>\n",
       "      <td>A2UXFNW9RTL4VM</td>\n",
       "      <td>B00004U9V2</td>\n",
       "      <td>Patricia Wood</td>\n",
       "      <td>The best non- oily hand cream ever. It heals o...</td>\n",
       "      <td>I always have a backup ready.</td>\n",
       "      <td>['After a long day of handling thorny situatio...</td>\n",
       "      <td></td>\n",
       "      <td>Crabtree &amp;amp; Evelyn - Gardener's Ultra-Moist...</td>\n",
       "      <td>[B00GHX7H0A, B00FRERO7G, B00R68QXCS, B000Z65AZ...</td>\n",
       "      <td>4,324 in Beauty &amp; Personal Care (</td>\n",
       "      <td>[B00FRERO7G, B00GHX7H0A, B07GFHJRMX, B00TJ3NBN...</td>\n",
       "      <td>$30.00</td>\n",
       "      <td>4324.0</td>\n",
       "      <td>'After a long day of handling thorny situation...</td>\n",
       "    </tr>\n",
       "  </tbody>\n",
       "</table>\n",
       "</div>"
      ],
      "text/plain": [
       "   overall vote  ... rank_amazon                                               desc\n",
       "0      2.0    3  ...      4324.0  'After a long day of handling thorny situation...\n",
       "1      5.0   14  ...      4324.0  'After a long day of handling thorny situation...\n",
       "2      5.0    0  ...      4324.0  'After a long day of handling thorny situation...\n",
       "3      5.0    0  ...      4324.0  'After a long day of handling thorny situation...\n",
       "4      5.0    0  ...      4324.0  'After a long day of handling thorny situation...\n",
       "\n",
       "[5 rows x 16 columns]"
      ]
     },
     "execution_count": 29,
     "metadata": {
      "tags": []
     },
     "output_type": "execute_result"
    }
   ],
   "source": [
    "merge_df_copy['vote']= merge_df_copy['vote'].fillna(0)\r\n",
    "merge_df_copy.head() #imputing null in vote column with 0"
   ]
  },
  {
   "cell_type": "code",
   "execution_count": null,
   "metadata": {
    "id": "rfBGyKuUZLvX"
   },
   "outputs": [],
   "source": [
    "merge_df_copy.to_json('/content/drive/MyDrive/DSPM/cleaned_data.json',compression='gzip') #writing the cleaned data file"
   ]
  },
  {
   "cell_type": "code",
   "execution_count": null,
   "metadata": {
    "id": "CmnX5YX78ZRj"
   },
   "outputs": [],
   "source": [
    "prod_keep= merge_df_copy.groupby('title')['reviewerID'].count().to_frame().sort_values('reviewerID',ascending=False)\r\n",
    "prod_keep= prod_keep[prod_keep['reviewerID']>3000]\r\n",
    "prod_keep.reset_index(inplace=True) #creating new dataframe with top products with more than 3000 reviews"
   ]
  },
  {
   "cell_type": "code",
   "execution_count": null,
   "metadata": {
    "id": "KXA8A0TXZw5H"
   },
   "outputs": [],
   "source": [
    "df_reviews= merge_df_copy[merge_df_copy['title'].isin(prod_keep['title'].to_list())]"
   ]
  },
  {
   "cell_type": "code",
   "execution_count": null,
   "metadata": {
    "colab": {
     "base_uri": "https://localhost:8080/"
    },
    "id": "GDbEEygNZ-w7",
    "outputId": "e20bbc7b-47de-42d4-e587-4632ec951b20"
   },
   "outputs": [
    {
     "data": {
      "text/plain": [
       "(51174, 16)"
      ]
     },
     "execution_count": 37,
     "metadata": {
      "tags": []
     },
     "output_type": "execute_result"
    }
   ],
   "source": [
    "df_reviews.shape"
   ]
  },
  {
   "cell_type": "code",
   "execution_count": null,
   "metadata": {
    "id": "jBDF1r0YIbGk"
   },
   "outputs": [],
   "source": [
    "df_reviews = df_reviews.reset_index(drop=True)"
   ]
  },
  {
   "cell_type": "code",
   "execution_count": null,
   "metadata": {
    "id": "xx4gAO-PaEzo"
   },
   "outputs": [],
   "source": [
    "df_reviews.to_json('/content/drive/MyDrive/DSPM/top_prod_reviews.json', compression='gzip') #writing the top products json file"
   ]
  },
  {
   "cell_type": "markdown",
   "metadata": {
    "id": "ui3iXDvPHEDF"
   },
   "source": [
    "## Exploratory Data Analysis\r\n",
    "\r\n",
    "- Understand the distribution of `price`, `overall` and `vote`. This will give us a sense of the range of the values and determine the main strong/ pain points\r\n",
    "\r\n",
    "- Scatter Plots to determine correlation between our important variables\r\n",
    "\r\n",
    "*Interpretationa and Insights can be found in key findings*"
   ]
  },
  {
   "cell_type": "markdown",
   "metadata": {
    "id": "FJ-dddj-Wmi2"
   },
   "source": [
    "### Understanding Distribution"
   ]
  },
  {
   "cell_type": "code",
   "execution_count": null,
   "metadata": {
    "colab": {
     "base_uri": "https://localhost:8080/",
     "height": 282
    },
    "id": "mBR849GzldOy",
    "outputId": "61faa16a-4293-49cb-876c-53202b91a768"
   },
   "outputs": [
    {
     "data": {
      "image/png": "[encoded data removed]",
      "text/plain": [
       "<Figure size 432x288 with 1 Axes>"
      ]
     },
     "metadata": {
      "tags": []
     },
     "output_type": "display_data"
    }
   ],
   "source": [
    "plt.hist(df['price'],bins=[0,10,20,30,40,50,100,150,200,300,500],color='turquoise')\n",
    "plt.title(\"Histogram - Price\")\n",
    "plt.savefig(\"Histogram - Price\")"
   ]
  },
  {
   "cell_type": "code",
   "execution_count": null,
   "metadata": {
    "id": "7SDw45s_ldOy"
   },
   "outputs": [],
   "source": [
    "df['overall'] = df.overall.astype(float)"
   ]
  },
  {
   "cell_type": "code",
   "execution_count": null,
   "metadata": {
    "colab": {
     "base_uri": "https://localhost:8080/",
     "height": 282
    },
    "id": "WWt_i85wldOz",
    "outputId": "9d679a49-0a9e-4cea-9db4-6da9d46a1a15"
   },
   "outputs": [
    {
     "data": {
      "image/png": "[encoded data removed]",
      "text/plain": [
       "<Figure size 432x288 with 1 Axes>"
      ]
     },
     "metadata": {
      "tags": []
     },
     "output_type": "display_data"
    }
   ],
   "source": [
    "overall = df['overall']\n",
    "plt.hist(overall, bins = [1,2,3,4,5],color='turquoise')\n",
    "plt.title(\"Histogram - Overall\")\n",
    "plt.savefig(\"Histogram - Overall\")"
   ]
  },
  {
   "cell_type": "code",
   "execution_count": null,
   "metadata": {
    "id": "b7Qh7csTldOz"
   },
   "outputs": [],
   "source": [
    "df['vote']= df['vote'].apply(lambda x: str(x)).str.replace(',','').str.extract(\"(\\d+)\")\n",
    "df['vote']=pd.to_numeric(df['vote'])\n"
   ]
  },
  {
   "cell_type": "code",
   "execution_count": null,
   "metadata": {
    "colab": {
     "base_uri": "https://localhost:8080/",
     "height": 282
    },
    "id": "FwX3rQ3Tn5Od",
    "outputId": "6a41db7b-46ee-4649-a6fd-9620bdbd6f83"
   },
   "outputs": [
    {
     "data": {
      "image/png": "[encoded data removed]",
      "text/plain": [
       "<Figure size 432x288 with 1 Axes>"
      ]
     },
     "metadata": {
      "tags": []
     },
     "output_type": "display_data"
    }
   ],
   "source": [
    "vote = df['vote']\r\n",
    "plt.hist(vote,bins=[0,1,2,3,4,5,10,20,30,50,100],color='turquoise')\r\n",
    "plt.title(\"Histogram - Votes\")\r\n",
    "plt.savefig(\"Histogram - Votes\")"
   ]
  },
  {
   "cell_type": "markdown",
   "metadata": {
    "id": "PqmLxrsnVVCr"
   },
   "source": [
    "### Understanding Correlations"
   ]
  },
  {
   "cell_type": "code",
   "execution_count": null,
   "metadata": {
    "id": "vcIbA9zfjaP0"
   },
   "outputs": [],
   "source": [
    "ov = df.groupby('asin')['overall'].mean().to_frame().rename(columns={\"reviewerId\":\"Mean_Overall\"})\n",
    "pr = df.groupby('asin')['price'].mean().to_frame().rename(columns={\"price\":\"Price\"})"
   ]
  },
  {
   "cell_type": "code",
   "execution_count": null,
   "metadata": {
    "colab": {
     "base_uri": "https://localhost:8080/",
     "height": 282
    },
    "id": "IyBE3OukjaP0",
    "outputId": "9065e6c5-127e-4aff-8583-09ebf7f16b0f"
   },
   "outputs": [
    {
     "data": {
      "image/png": "[encoded data removed]",
      "text/plain": [
       "<Figure size 432x288 with 1 Axes>"
      ]
     },
     "metadata": {
      "tags": []
     },
     "output_type": "display_data"
    }
   ],
   "source": [
    "plt.scatter(ov, pr)\n",
    "plt.xlabel(\"Mean Overall\")\n",
    "plt.ylabel(\"Price\")\n",
    "plt.show()"
   ]
  },
  {
   "cell_type": "code",
   "execution_count": null,
   "metadata": {
    "id": "veLQ1jssjaP1"
   },
   "outputs": [],
   "source": [
    "num_reviews = df.groupby('asin')['reviewerID'].count().to_frame()"
   ]
  },
  {
   "cell_type": "code",
   "execution_count": null,
   "metadata": {
    "colab": {
     "base_uri": "https://localhost:8080/",
     "height": 282
    },
    "id": "Mt9nUkKOjaP1",
    "outputId": "7474795d-be31-4656-d272-7c20decf904d"
   },
   "outputs": [
    {
     "data": {
      "image/png": "[encoded data removed]",
      "text/plain": [
       "<Figure size 432x288 with 1 Axes>"
      ]
     },
     "metadata": {
      "tags": []
     },
     "output_type": "display_data"
    }
   ],
   "source": [
    "plt.scatter(num_reviews, pr)\n",
    "plt.xlabel(\"Number of Reviews\")\n",
    "plt.ylabel(\"Price\")\n",
    "plt.show()"
   ]
  },
  {
   "cell_type": "code",
   "execution_count": null,
   "metadata": {
    "id": "L-nV5vtOjaP2"
   },
   "outputs": [],
   "source": [
    "ran = df.groupby('asin')['rank_amazon'].mean().to_frame()"
   ]
  },
  {
   "cell_type": "code",
   "execution_count": null,
   "metadata": {
    "colab": {
     "base_uri": "https://localhost:8080/",
     "height": 282
    },
    "id": "7nLxWv8ljaP2",
    "outputId": "53bebcd7-e948-464b-aebb-19c63fb57dc7"
   },
   "outputs": [
    {
     "data": {
      "image/png": "[encoded data removed]",
      "text/plain": [
       "<Figure size 432x288 with 1 Axes>"
      ]
     },
     "metadata": {
      "tags": []
     },
     "output_type": "display_data"
    }
   ],
   "source": [
    "plt.scatter(ov, ran)\n",
    "plt.xlabel(\"Mean Overall Rating\")\n",
    "plt.ylabel(\"Rank of product\")\n",
    "plt.show()"
   ]
  },
  {
   "cell_type": "code",
   "execution_count": null,
   "metadata": {
    "colab": {
     "base_uri": "https://localhost:8080/",
     "height": 282
    },
    "id": "xBk0rjEljaP3",
    "outputId": "6b979f4a-e391-4022-ca2a-fa84dee14032"
   },
   "outputs": [
    {
     "data": {
      "image/png": "[encoded data removed]",
      "text/plain": [
       "<Figure size 432x288 with 1 Axes>"
      ]
     },
     "metadata": {
      "tags": []
     },
     "output_type": "display_data"
    }
   ],
   "source": [
    "plt.scatter(pr, ran)\n",
    "plt.xlabel(\"Price\")\n",
    "plt.ylabel(\"Rank of product\")\n",
    "plt.show()"
   ]
  },
  {
   "cell_type": "code",
   "execution_count": null,
   "metadata": {
    "colab": {
     "base_uri": "https://localhost:8080/",
     "height": 282
    },
    "id": "0G9FEsU8jaP3",
    "outputId": "b9ac584e-5a34-43b2-8add-be99fe00edea"
   },
   "outputs": [
    {
     "data": {
      "image/png": "[encoded data removed]",
      "text/plain": [
       "<Figure size 432x288 with 1 Axes>"
      ]
     },
     "metadata": {
      "tags": []
     },
     "output_type": "display_data"
    }
   ],
   "source": [
    "plt.scatter(num_reviews, ran)\n",
    "plt.xlabel(\"Number of Reviews\")\n",
    "plt.ylabel(\"Rank of Product\")\n",
    "plt.show()"
   ]
  },
  {
   "cell_type": "markdown",
   "metadata": {
    "id": "nCv4pNnnVZ_o"
   },
   "source": [
    "### Key Findings\r\n",
    "\r\n",
    "- The distribution for all 3 variables is highly skewed. Most of the reviews have an overall rating of 4 or 5. This means that majority of the customers are satisfied with the product. \r\n",
    "- The price range for most products is between 1USD to 100 USD. Most of the reviews don't have any votes.\r\n",
    "- The relation between price and number of reviews is exponential to a certain extent and so is for the overall and rank. "
   ]
  },
  {
   "cell_type": "markdown",
   "metadata": {
    "id": "N2iumyxRL3Qf"
   },
   "source": [
    "## Model and Products\r\n",
    "\r\n",
    "After the Exploratory Data Analysis we narrowed down to 3 different products based on number of reviews and product categories.\r\n",
    "\r\n",
    "We then used 3 models:\r\n",
    "- VADER\r\n",
    "- KMeans with Word2Vec\r\n",
    "- KMeans with Self Organzing Maps\r\n",
    "\r\n",
    "**Note: Following code is for one product , similar code was run for other products. These code files, saved predictions and scores can be found in the codefiles folder**"
   ]
  },
  {
   "cell_type": "markdown",
   "metadata": {
    "id": "ClGEnHHYHNwW"
   },
   "source": [
    "## VADER\r\n",
    "\r\n",
    "VADER (Valence Aware Dictionary and sEntiment Reasoner) is a lexicon and rule-based sentiment analysis tool that is specifically attuned to sentiments expressed in social media.  \r\n",
    " \r\n",
    "SentimentIntensityAnalyzer() is an object and polarity_scores is a method which will  give us scores of the following categories:\r\n",
    "- Positive\r\n",
    "-  Negative\r\n",
    "-  Neutral\r\n",
    "- Compound\r\n",
    "  \r\n",
    "The compound score is the sum of positive, negative & neutral scores which is then normalized between -1(most extreme negative) and +1 (most extreme positive).\r\n",
    "The more Compound score closer to +1, the higher the positivity of the text.\r\n",
    "\r\n",
    "Process we followed:\r\n",
    "\r\n",
    "- VADER SentimentAnalyzer() from nltk\r\n",
    "- Calculated and mapped compound scores\r\n",
    "- Compared them with true labels (reviews with overall rating 4/5) \r\n",
    "\r\n",
    "**Note: We did not use true labels for training. Just to evaluate how our models were performing**"
   ]
  },
  {
   "cell_type": "markdown",
   "metadata": {
    "id": "v3NBPC0gaF1Q"
   },
   "source": [
    "### Load the data"
   ]
  },
  {
   "cell_type": "code",
   "execution_count": null,
   "metadata": {
    "colab": {
     "base_uri": "https://localhost:8080/",
     "height": 448
    },
    "id": "SyKzTxclu9_b",
    "outputId": "9f6966a1-cd81-4851-a1e3-eb64ca5e7f24"
   },
   "outputs": [
    {
     "data": {
      "text/html": [
       "<div>\n",
       "<style scoped>\n",
       "    .dataframe tbody tr th:only-of-type {\n",
       "        vertical-align: middle;\n",
       "    }\n",
       "\n",
       "    .dataframe tbody tr th {\n",
       "        vertical-align: top;\n",
       "    }\n",
       "\n",
       "    .dataframe thead th {\n",
       "        text-align: right;\n",
       "    }\n",
       "</style>\n",
       "<table border=\"1\" class=\"dataframe\">\n",
       "  <thead>\n",
       "    <tr style=\"text-align: right;\">\n",
       "      <th></th>\n",
       "      <th>overall</th>\n",
       "      <th>vote</th>\n",
       "      <th>reviewerID</th>\n",
       "      <th>asin</th>\n",
       "      <th>reviewerName</th>\n",
       "      <th>reviewText</th>\n",
       "      <th>summary</th>\n",
       "      <th>description</th>\n",
       "      <th>fit</th>\n",
       "      <th>title</th>\n",
       "      <th>also_buy</th>\n",
       "      <th>rank</th>\n",
       "      <th>also_view</th>\n",
       "      <th>price</th>\n",
       "      <th>rank_amazon</th>\n",
       "      <th>desc</th>\n",
       "    </tr>\n",
       "  </thead>\n",
       "  <tbody>\n",
       "    <tr>\n",
       "      <th>2543</th>\n",
       "      <td>1</td>\n",
       "      <td>0</td>\n",
       "      <td>A1SJGHZDQHVYWH</td>\n",
       "      <td>B000142FVW</td>\n",
       "      <td>Julie D. Cassetina</td>\n",
       "      <td>Doesnt match the regular color of the real pro...</td>\n",
       "      <td>One Star</td>\n",
       "      <td>['Nail lacquer is the original nail polish for...</td>\n",
       "      <td></td>\n",
       "      <td>OPI Nail Lacquer, Not So Bora-Bora-ing Pink, 0...</td>\n",
       "      <td>[B000NG90UM, B002D4GYHE, B00178VX50, B00R2X2S7...</td>\n",
       "      <td>26,115 in Beauty &amp; Personal Care (</td>\n",
       "      <td>[B000NG801C, B004220DOU, B0035YFH6K, B006JUVPS...</td>\n",
       "      <td>$8.40</td>\n",
       "      <td>26115</td>\n",
       "      <td>'Nail lacquer is the original nail polish form...</td>\n",
       "    </tr>\n",
       "    <tr>\n",
       "      <th>2544</th>\n",
       "      <td>3</td>\n",
       "      <td>0</td>\n",
       "      <td>A1EZAX4P346ABG</td>\n",
       "      <td>B000142FVW</td>\n",
       "      <td>James C. James</td>\n",
       "      <td>Not pigmented enough. Needed three coats and s...</td>\n",
       "      <td>Low pigment</td>\n",
       "      <td>['Nail lacquer is the original nail polish for...</td>\n",
       "      <td></td>\n",
       "      <td>OPI Nail Lacquer, Not So Bora-Bora-ing Pink, 0...</td>\n",
       "      <td>[B000NG90UM, B002D4GYHE, B00178VX50, B00R2X2S7...</td>\n",
       "      <td>26,115 in Beauty &amp; Personal Care (</td>\n",
       "      <td>[B000NG801C, B004220DOU, B0035YFH6K, B006JUVPS...</td>\n",
       "      <td>$8.40</td>\n",
       "      <td>26115</td>\n",
       "      <td>'Nail lacquer is the original nail polish form...</td>\n",
       "    </tr>\n",
       "    <tr>\n",
       "      <th>2545</th>\n",
       "      <td>4</td>\n",
       "      <td>0</td>\n",
       "      <td>A1AT61K23ZY13Z</td>\n",
       "      <td>B000142FVW</td>\n",
       "      <td>Amazon Customer</td>\n",
       "      <td>I really liked the color of this polish. It wa...</td>\n",
       "      <td>I really liked the color of this polish</td>\n",
       "      <td>['Nail lacquer is the original nail polish for...</td>\n",
       "      <td></td>\n",
       "      <td>OPI Nail Lacquer, Not So Bora-Bora-ing Pink, 0...</td>\n",
       "      <td>[B000NG90UM, B002D4GYHE, B00178VX50, B00R2X2S7...</td>\n",
       "      <td>26,115 in Beauty &amp; Personal Care (</td>\n",
       "      <td>[B000NG801C, B004220DOU, B0035YFH6K, B006JUVPS...</td>\n",
       "      <td>$8.40</td>\n",
       "      <td>26115</td>\n",
       "      <td>'Nail lacquer is the original nail polish form...</td>\n",
       "    </tr>\n",
       "  </tbody>\n",
       "</table>\n",
       "</div>"
      ],
      "text/plain": [
       "      overall  ...                                               desc\n",
       "2543        1  ...  'Nail lacquer is the original nail polish form...\n",
       "2544        3  ...  'Nail lacquer is the original nail polish form...\n",
       "2545        4  ...  'Nail lacquer is the original nail polish form...\n",
       "\n",
       "[3 rows x 16 columns]"
      ]
     },
     "execution_count": 66,
     "metadata": {
      "tags": []
     },
     "output_type": "execute_result"
    }
   ],
   "source": [
    "#Read in the data\r\n",
    "reviews = pd.read_json(\"top_prod_reviews.json\",compression=\"gzip\")\r\n",
    "reviews.head(3)\r\n",
    "\r\n"
   ]
  },
  {
   "cell_type": "code",
   "execution_count": null,
   "metadata": {
    "colab": {
     "base_uri": "https://localhost:8080/",
     "height": 448
    },
    "id": "RyENbXgiwU6Y",
    "outputId": "c1b043e8-09aa-4079-9062-ecc33d8e3117"
   },
   "outputs": [
    {
     "data": {
      "text/html": [
       "<div>\n",
       "<style scoped>\n",
       "    .dataframe tbody tr th:only-of-type {\n",
       "        vertical-align: middle;\n",
       "    }\n",
       "\n",
       "    .dataframe tbody tr th {\n",
       "        vertical-align: top;\n",
       "    }\n",
       "\n",
       "    .dataframe thead th {\n",
       "        text-align: right;\n",
       "    }\n",
       "</style>\n",
       "<table border=\"1\" class=\"dataframe\">\n",
       "  <thead>\n",
       "    <tr style=\"text-align: right;\">\n",
       "      <th></th>\n",
       "      <th>overall</th>\n",
       "      <th>vote</th>\n",
       "      <th>reviewerID</th>\n",
       "      <th>asin</th>\n",
       "      <th>reviewerName</th>\n",
       "      <th>reviewText</th>\n",
       "      <th>summary</th>\n",
       "      <th>description</th>\n",
       "      <th>fit</th>\n",
       "      <th>title</th>\n",
       "      <th>also_buy</th>\n",
       "      <th>rank</th>\n",
       "      <th>also_view</th>\n",
       "      <th>price</th>\n",
       "      <th>rank_amazon</th>\n",
       "      <th>desc</th>\n",
       "    </tr>\n",
       "  </thead>\n",
       "  <tbody>\n",
       "    <tr>\n",
       "      <th>173529</th>\n",
       "      <td>5</td>\n",
       "      <td>23</td>\n",
       "      <td>A1FZMDMDM9D81Z</td>\n",
       "      <td>B00172O9NO</td>\n",
       "      <td>The Cat&amp;#039;s Meow</td>\n",
       "      <td>I love this facial mist by Mario Badescu! It's...</td>\n",
       "      <td>Fresh!</td>\n",
       "      <td>['A refreshing, hydrating mist to use anywhere...</td>\n",
       "      <td></td>\n",
       "      <td>Mario Badescu Facial Spray with Aloe, Herbs a...</td>\n",
       "      <td>[B0017SWIU4, B07BSV1T35, B0014P8L9W, B07DYDD49...</td>\n",
       "      <td>524 in Beauty &amp; Personal Care (</td>\n",
       "      <td>[B07849F4R5, B076XKLQ2T, B07G1493ZM, B00LBHEP3...</td>\n",
       "      <td>$12.00</td>\n",
       "      <td>524</td>\n",
       "      <td>'A refreshing, hydrating mist to use anywhere ...</td>\n",
       "    </tr>\n",
       "    <tr>\n",
       "      <th>173530</th>\n",
       "      <td>5</td>\n",
       "      <td>0</td>\n",
       "      <td>A9U6XNKG8RYYI</td>\n",
       "      <td>B00172O9NO</td>\n",
       "      <td>Tise~</td>\n",
       "      <td>I use it as a facial spray at night and as a m...</td>\n",
       "      <td>I use it as a facial spray at night and ...</td>\n",
       "      <td>['A refreshing, hydrating mist to use anywhere...</td>\n",
       "      <td></td>\n",
       "      <td>Mario Badescu Facial Spray with Aloe, Herbs a...</td>\n",
       "      <td>[B0017SWIU4, B07BSV1T35, B0014P8L9W, B07DYDD49...</td>\n",
       "      <td>524 in Beauty &amp; Personal Care (</td>\n",
       "      <td>[B07849F4R5, B076XKLQ2T, B07G1493ZM, B00LBHEP3...</td>\n",
       "      <td>$12.00</td>\n",
       "      <td>524</td>\n",
       "      <td>'A refreshing, hydrating mist to use anywhere ...</td>\n",
       "    </tr>\n",
       "    <tr>\n",
       "      <th>173531</th>\n",
       "      <td>5</td>\n",
       "      <td>0</td>\n",
       "      <td>ACXEUZEAZ276A</td>\n",
       "      <td>B00172O9NO</td>\n",
       "      <td>Amazon Customer</td>\n",
       "      <td>This beauty stays in my handbag to help rehydr...</td>\n",
       "      <td>this is just perfect. It refreshes my skin and...</td>\n",
       "      <td>['A refreshing, hydrating mist to use anywhere...</td>\n",
       "      <td></td>\n",
       "      <td>Mario Badescu Facial Spray with Aloe, Herbs a...</td>\n",
       "      <td>[B0017SWIU4, B07BSV1T35, B0014P8L9W, B07DYDD49...</td>\n",
       "      <td>524 in Beauty &amp; Personal Care (</td>\n",
       "      <td>[B07849F4R5, B076XKLQ2T, B07G1493ZM, B00LBHEP3...</td>\n",
       "      <td>$12.00</td>\n",
       "      <td>524</td>\n",
       "      <td>'A refreshing, hydrating mist to use anywhere ...</td>\n",
       "    </tr>\n",
       "  </tbody>\n",
       "</table>\n",
       "</div>"
      ],
      "text/plain": [
       "        overall  ...                                               desc\n",
       "173529        5  ...  'A refreshing, hydrating mist to use anywhere ...\n",
       "173530        5  ...  'A refreshing, hydrating mist to use anywhere ...\n",
       "173531        5  ...  'A refreshing, hydrating mist to use anywhere ...\n",
       "\n",
       "[3 rows x 16 columns]"
      ]
     },
     "execution_count": 67,
     "metadata": {
      "tags": []
     },
     "output_type": "execute_result"
    }
   ],
   "source": [
    "#Focus on one product\r\n",
    "prod3= reviews[reviews['asin']==\"B00172O9NO\"]\r\n",
    "prod3.head(3)"
   ]
  },
  {
   "cell_type": "code",
   "execution_count": null,
   "metadata": {
    "id": "AmLGFB8t7jQP"
   },
   "outputs": [],
   "source": [
    "#Reindex\r\n",
    "prod3 = prod3.reset_index(drop=True)"
   ]
  },
  {
   "cell_type": "code",
   "execution_count": null,
   "metadata": {
    "id": "1TjfemnQ7wV8"
   },
   "outputs": [],
   "source": [
    "#Turn the entire text into lowercase letters\r\n",
    "prod3['reviewText']= prod3['reviewText'].apply(lambda x: x.lower())"
   ]
  },
  {
   "cell_type": "markdown",
   "metadata": {
    "id": "5ym2ulGZaNjl"
   },
   "source": [
    "### Text Preparation and Most Frequent Words"
   ]
  },
  {
   "cell_type": "code",
   "execution_count": null,
   "metadata": {
    "id": "sdwFX4zSxNIK"
   },
   "outputs": [],
   "source": [
    "#Tokenize the Data\r\n",
    "nlp = spacy.load(\"en_core_web_sm\")\r\n",
    "nlp.Defaults.stop_words.add(\"product\")\r\n",
    "nlp.Defaults.stop_words.add(\"products\")\r\n",
    "nlp.Defaults.stop_words.add(\"facial\")\r\n",
    "nlp.Defaults.stop_words.add(\"spray\")\r\n",
    "nlp.Defaults.stop_words.add(\"mist\")\r\n",
    "nlp.Defaults.stop_words.add(\"mario\")\r\n",
    "nlp.Defaults.stop_words.add(\"badescu\")\r\n",
    "nlp.Defaults.stop_words.add(\"skin\")\r\n",
    "nlp.Defaults.stop_words.add(\"makeup\")"
   ]
  },
  {
   "cell_type": "code",
   "execution_count": null,
   "metadata": {
    "id": "Os_wqXqLyeZh"
   },
   "outputs": [],
   "source": [
    "#Function to remove meaningless and stop words\r\n",
    "def remove_stopwords(text):\r\n",
    "  '''\r\n",
    "  Args\r\n",
    "\r\n",
    "  text : a string of product review\r\n",
    "\r\n",
    "  Return:\r\n",
    "\r\n",
    "  tokens: a string without stopwords and punctutaions\r\n",
    "  '''\r\n",
    "  tokens=[]\r\n",
    "  doc=nlp(text)\r\n",
    "  for word in doc:\r\n",
    "    if word.is_stop==False:\r\n",
    "      if word.is_punct==False:\r\n",
    "        if word.pos_=='ADJ' or word.pos_==\"NOUN\" or word.pos_==\"VERB\":\r\n",
    "          tokens.append(word.text)\r\n",
    "  sentence = \" \".join(tokens)\r\n",
    "\r\n",
    "  \r\n",
    "  return sentence"
   ]
  },
  {
   "cell_type": "code",
   "execution_count": null,
   "metadata": {
    "id": "BBnL-vcQyiGZ"
   },
   "outputs": [],
   "source": [
    "#Apply function to remove meaningless and stop words\r\n",
    "prod3['reviewsTokens']=prod3['reviewText'].apply(lambda x: remove_stopwords(x))"
   ]
  },
  {
   "cell_type": "code",
   "execution_count": null,
   "metadata": {
    "colab": {
     "base_uri": "https://localhost:8080/"
    },
    "id": "5BFrOKgSyptA",
    "outputId": "21660e07-1fd1-4b4b-889a-8f8fd189bc5c"
   },
   "outputs": [
    {
     "name": "stdout",
     "output_type": "stream",
     "text": [
      "['love', 'face', 'use', 'smells', 'great', 'refreshing', 'good', 'smell', 'day', 'amazing']\n"
     ]
    }
   ],
   "source": [
    "#what are the top 10 most frequent words\r\n",
    "split_it = []\r\n",
    "for i in prod3['reviewsTokens']:\r\n",
    "    split_it+=i.split()\r\n",
    "\r\n",
    "text_top_counter= Counter(split_it)\r\n",
    "text_top= []\r\n",
    "text_top_counts= []\r\n",
    "for k, v in text_top_counter.most_common(10):\r\n",
    "    text_top.append(k)\r\n",
    "    text_top_counts.append(v)\r\n",
    "print(text_top)"
   ]
  },
  {
   "cell_type": "code",
   "execution_count": null,
   "metadata": {
    "colab": {
     "base_uri": "https://localhost:8080/",
     "height": 575
    },
    "id": "SeGbyGQjbQOj",
    "outputId": "70698bba-72e5-442a-87e6-8e54b268abf5"
   },
   "outputs": [
    {
     "data": {
      "image/png": "[encoded data removed]",
      "text/plain": [
       "<Figure size 720x720 with 1 Axes>"
      ]
     },
     "metadata": {
      "needs_background": "light",
      "tags": []
     },
     "output_type": "display_data"
    }
   ],
   "source": [
    "#Plot top 10 words\r\n",
    "from wordcloud import WordCloud\r\n",
    "import matplotlib.pyplot as plt\r\n",
    "plot_it = \" \".join(text_top)\r\n",
    "def plot_cloud(wordcloud):\r\n",
    "    plt.figure(figsize=(10, 10))\r\n",
    "    plt.imshow(wordcloud)\r\n",
    "    plt.axis(\"off\");\r\n",
    "wordcloud = WordCloud(width = 500, height = 500, background_color='#40E0D0', colormap=\"ocean\",  random_state=10).generate(plot_it)\r\n",
    "plot_cloud(wordcloud)"
   ]
  },
  {
   "cell_type": "markdown",
   "metadata": {
    "id": "0n7HmQ5uXvYc"
   },
   "source": [
    "**As we can see most frequent words for this product are highly positive**"
   ]
  },
  {
   "cell_type": "markdown",
   "metadata": {
    "id": "_vCPK7rCaVho"
   },
   "source": [
    "### Sentiment Analysis with VADER"
   ]
  },
  {
   "cell_type": "code",
   "execution_count": null,
   "metadata": {
    "id": "d_3ePhMo1aXh"
   },
   "outputs": [],
   "source": [
    "# import Vader \r\n",
    "from vaderSentiment.vaderSentiment import SentimentIntensityAnalyzer"
   ]
  },
  {
   "cell_type": "code",
   "execution_count": null,
   "metadata": {
    "id": "cqXpF9gRfuGP"
   },
   "outputs": [],
   "source": [
    "def sentiment_scores(sentence): \r\n",
    "  \r\n",
    "    # Create a SentimentIntensityAnalyzer object. \r\n",
    "    sid_obj = SentimentIntensityAnalyzer() \r\n",
    "  \r\n",
    "    # polarity_scores method of SentimentIntensityAnalyzer \r\n",
    "    # oject gives a sentiment dictionary. \r\n",
    "    # which contains pos, neg, neu, and compound scores. \r\n",
    "    sentiment_dict = sid_obj.polarity_scores(sentence) \r\n",
    "  \r\n",
    "    # decide sentiment as positive and negative\r\n",
    "    if sentiment_dict['compound'] >= 0.0 :\r\n",
    "      result = \"Positive\"\r\n",
    "  \r\n",
    "    elif sentiment_dict['compound'] <  0.0 : \r\n",
    "      result = \"Negative\"\r\n",
    "  \r\n",
    "    return result"
   ]
  },
  {
   "cell_type": "code",
   "execution_count": null,
   "metadata": {
    "colab": {
     "base_uri": "https://localhost:8080/"
    },
    "id": "oYMzcStx2tRs",
    "outputId": "ea173b5b-96e7-45b1-f005-a9e13330b54f"
   },
   "outputs": [
    {
     "data": {
      "text/plain": [
       "(6126, 17)"
      ]
     },
     "execution_count": 79,
     "metadata": {
      "tags": []
     },
     "output_type": "execute_result"
    }
   ],
   "source": [
    "prod3.shape"
   ]
  },
  {
   "cell_type": "code",
   "execution_count": null,
   "metadata": {
    "id": "c0JQJvsr6_ib"
   },
   "outputs": [],
   "source": [
    "# add verdict\r\n",
    "def result_token(df):\r\n",
    "  lst=[]\r\n",
    "  for i in df['reviewsTokens']:\r\n",
    "    output = sentiment_scores(i)\r\n",
    "    lst.append(output)\r\n",
    "  df['Verdict'] = lst\r\n",
    "  return df"
   ]
  },
  {
   "cell_type": "code",
   "execution_count": null,
   "metadata": {
    "id": "omxilDMf1q7P"
   },
   "outputs": [],
   "source": [
    "result_token(prod3) #applied result token function"
   ]
  },
  {
   "cell_type": "code",
   "execution_count": null,
   "metadata": {
    "colab": {
     "base_uri": "https://localhost:8080/",
     "height": 204
    },
    "id": "RZbxHnwM47d4",
    "outputId": "3a5f8f65-9066-457a-b1d5-534b6ab44fb0"
   },
   "outputs": [
    {
     "data": {
      "text/html": [
       "<div>\n",
       "<style scoped>\n",
       "    .dataframe tbody tr th:only-of-type {\n",
       "        vertical-align: middle;\n",
       "    }\n",
       "\n",
       "    .dataframe tbody tr th {\n",
       "        vertical-align: top;\n",
       "    }\n",
       "\n",
       "    .dataframe thead th {\n",
       "        text-align: right;\n",
       "    }\n",
       "</style>\n",
       "<table border=\"1\" class=\"dataframe\">\n",
       "  <thead>\n",
       "    <tr style=\"text-align: right;\">\n",
       "      <th></th>\n",
       "      <th>reviewText</th>\n",
       "      <th>overall</th>\n",
       "      <th>Verdict</th>\n",
       "    </tr>\n",
       "  </thead>\n",
       "  <tbody>\n",
       "    <tr>\n",
       "      <th>0</th>\n",
       "      <td>i love this facial mist by mario badescu! it's...</td>\n",
       "      <td>5</td>\n",
       "      <td>Positive</td>\n",
       "    </tr>\n",
       "    <tr>\n",
       "      <th>1</th>\n",
       "      <td>i use it as a facial spray at night and as a m...</td>\n",
       "      <td>5</td>\n",
       "      <td>Negative</td>\n",
       "    </tr>\n",
       "    <tr>\n",
       "      <th>2</th>\n",
       "      <td>this beauty stays in my handbag to help rehydr...</td>\n",
       "      <td>5</td>\n",
       "      <td>Positive</td>\n",
       "    </tr>\n",
       "    <tr>\n",
       "      <th>3</th>\n",
       "      <td>love it! keep it in my bag and spritz myself t...</td>\n",
       "      <td>5</td>\n",
       "      <td>Positive</td>\n",
       "    </tr>\n",
       "    <tr>\n",
       "      <th>4</th>\n",
       "      <td>can you say miracle for my skin my skin is ver...</td>\n",
       "      <td>5</td>\n",
       "      <td>Positive</td>\n",
       "    </tr>\n",
       "  </tbody>\n",
       "</table>\n",
       "</div>"
      ],
      "text/plain": [
       "                                          reviewText  overall   Verdict\n",
       "0  i love this facial mist by mario badescu! it's...        5  Positive\n",
       "1  i use it as a facial spray at night and as a m...        5  Negative\n",
       "2  this beauty stays in my handbag to help rehydr...        5  Positive\n",
       "3  love it! keep it in my bag and spritz myself t...        5  Positive\n",
       "4  can you say miracle for my skin my skin is ver...        5  Positive"
      ]
     },
     "execution_count": 82,
     "metadata": {
      "tags": []
     },
     "output_type": "execute_result"
    }
   ],
   "source": [
    "#choose 3 columns only\r\n",
    "\r\n",
    "prod3 = prod3[['reviewText','overall','Verdict']]\r\n",
    "prod3.head(5)\r\n"
   ]
  },
  {
   "cell_type": "code",
   "execution_count": null,
   "metadata": {
    "colab": {
     "base_uri": "https://localhost:8080/",
     "height": 204
    },
    "id": "4Vnn9LUVhWCZ",
    "outputId": "15b70cd9-0177-417f-e058-e7805baeeb4e"
   },
   "outputs": [
    {
     "data": {
      "text/html": [
       "<div>\n",
       "<style scoped>\n",
       "    .dataframe tbody tr th:only-of-type {\n",
       "        vertical-align: middle;\n",
       "    }\n",
       "\n",
       "    .dataframe tbody tr th {\n",
       "        vertical-align: top;\n",
       "    }\n",
       "\n",
       "    .dataframe thead th {\n",
       "        text-align: right;\n",
       "    }\n",
       "</style>\n",
       "<table border=\"1\" class=\"dataframe\">\n",
       "  <thead>\n",
       "    <tr style=\"text-align: right;\">\n",
       "      <th></th>\n",
       "      <th>reviewText</th>\n",
       "      <th>sentiment</th>\n",
       "      <th>prediction</th>\n",
       "    </tr>\n",
       "  </thead>\n",
       "  <tbody>\n",
       "    <tr>\n",
       "      <th>0</th>\n",
       "      <td>i love this facial mist by mario badescu! it's...</td>\n",
       "      <td>1</td>\n",
       "      <td>1</td>\n",
       "    </tr>\n",
       "    <tr>\n",
       "      <th>1</th>\n",
       "      <td>i use it as a facial spray at night and as a m...</td>\n",
       "      <td>1</td>\n",
       "      <td>0</td>\n",
       "    </tr>\n",
       "    <tr>\n",
       "      <th>2</th>\n",
       "      <td>this beauty stays in my handbag to help rehydr...</td>\n",
       "      <td>1</td>\n",
       "      <td>1</td>\n",
       "    </tr>\n",
       "    <tr>\n",
       "      <th>3</th>\n",
       "      <td>love it! keep it in my bag and spritz myself t...</td>\n",
       "      <td>1</td>\n",
       "      <td>1</td>\n",
       "    </tr>\n",
       "    <tr>\n",
       "      <th>4</th>\n",
       "      <td>can you say miracle for my skin my skin is ver...</td>\n",
       "      <td>1</td>\n",
       "      <td>1</td>\n",
       "    </tr>\n",
       "  </tbody>\n",
       "</table>\n",
       "</div>"
      ],
      "text/plain": [
       "                                          reviewText  sentiment  prediction\n",
       "0  i love this facial mist by mario badescu! it's...          1           1\n",
       "1  i use it as a facial spray at night and as a m...          1           0\n",
       "2  this beauty stays in my handbag to help rehydr...          1           1\n",
       "3  love it! keep it in my bag and spritz myself t...          1           1\n",
       "4  can you say miracle for my skin my skin is ver...          1           1"
      ]
     },
     "execution_count": 83,
     "metadata": {
      "tags": []
     },
     "output_type": "execute_result"
    }
   ],
   "source": [
    "#Turn into binary classification: Positive and Negative\r\n",
    "\r\n",
    "change_nums = {\"Verdict\":     {\"Positive\": 1, \"Negative\": 0},\r\n",
    "                \"overall\": {1: 0, 2: 0, 3: 0, 4: 1,5: 1}}\r\n",
    "prod3 = prod3.replace(change_nums)\r\n",
    "prod3.rename(columns = {'overall': 'sentiment','Verdict':'prediction'}, inplace = True)\r\n",
    "prod3.head()\r\n",
    "\r\n"
   ]
  },
  {
   "cell_type": "markdown",
   "metadata": {
    "id": "KKy4vHlWaeuW"
   },
   "source": [
    "### Evaluating the VADER Results for Product 3"
   ]
  },
  {
   "cell_type": "code",
   "execution_count": null,
   "metadata": {
    "colab": {
     "base_uri": "https://localhost:8080/",
     "height": 397
    },
    "id": "nTPWgRqrBVZo",
    "outputId": "9b32f654-feaa-49ce-b77a-7b262b6fbd6b"
   },
   "outputs": [
    {
     "name": "stdout",
     "output_type": "stream",
     "text": [
      "Random Chances: ROC AUC=0.500\n",
      "Product 3: ROC AUC= 0.641\n",
      "Product 3: Accuracy= 0.862\n",
      "Product 3: Precision= 0.874\n",
      "Product 3: Recall= 0.974\n",
      "Product 3: f1= 0.922\n"
     ]
    },
    {
     "data": {
      "image/png": "[encoded data removed]",
      "text/plain": [
       "<Figure size 432x288 with 1 Axes>"
      ]
     },
     "metadata": {
      "needs_background": "light",
      "tags": []
     },
     "output_type": "display_data"
    }
   ],
   "source": [
    "# roc curve and auc\r\n",
    "\r\n",
    "# generate a no skill prediction (majority class)\r\n",
    "ns_probs = [0 for _ in range(len(prod3['sentiment']))]\r\n",
    "\r\n",
    "# calculate scores\r\n",
    "ns_auc = roc_auc_score(prod3['sentiment'], ns_probs)\r\n",
    "pro_1 = roc_auc_score(prod3['sentiment'], prod3['prediction'])\r\n",
    "acc= accuracy_score(prod3['sentiment'],prod3['prediction'])\r\n",
    "precision= precision_score(prod3['sentiment'],prod3['prediction'])\r\n",
    "recall= recall_score(prod3['sentiment'],prod3['prediction'])\r\n",
    "f1= f1_score(prod3['sentiment'],prod3['prediction'])\r\n",
    "\r\n",
    "\r\n",
    "# summarize scores\r\n",
    "print('Random Chances: ROC AUC=%.3f' % (ns_auc))\r\n",
    "print('Product 3: ROC AUC= %.3f' % (pro_1))\r\n",
    "print('Product 3: Accuracy= %.3f' % (acc))\r\n",
    "print('Product 3: Precision= %.3f' % (precision))\r\n",
    "print('Product 3: Recall= %.3f' % (recall))\r\n",
    "print('Product 3: f1= %.3f' % (f1))\r\n",
    "\r\n",
    "\r\n",
    "\r\n",
    "# calculate roc curves\r\n",
    "ns_fpr, ns_tpr, _ = roc_curve(prod3['sentiment'], ns_probs)\r\n",
    "one_fpr, one_tpr, _ = roc_curve(prod3['sentiment'], prod3['prediction'])\r\n",
    "\r\n",
    "\r\n",
    "# plot the roc curve for the model\r\n",
    "pyplot.plot(ns_fpr, ns_tpr, linestyle='--', label='Random Chances')\r\n",
    "pyplot.plot(one_fpr, one_tpr, marker='.', label='Product 3')\r\n",
    "\r\n",
    "\r\n",
    "# axis labels\r\n",
    "pyplot.xlabel('False Positive Rate')\r\n",
    "pyplot.ylabel('True Positive Rate')\r\n",
    "# show the legend\r\n",
    "pyplot.legend()\r\n",
    "pyplot.title(\"ROC Curve for Product 3\")\r\n",
    "# show the plot\r\n",
    "pyplot.show()"
   ]
  },
  {
   "cell_type": "markdown",
   "metadata": {
    "id": "tP0wxNcLbVmo"
   },
   "source": [
    "**A quite impressive Recall rate and F-1 Score**"
   ]
  },
  {
   "cell_type": "code",
   "execution_count": null,
   "metadata": {
    "id": "2P_G54bU5_g2"
   },
   "outputs": [],
   "source": [
    "#Write output results to a txt file\r\n",
    "output_file = open(\"Prod3.txt\", \"w\")\r\n",
    "output_file.write(\"{:.2f}\\n\".format(acc))\r\n",
    "output_file.write(\"{:.2f}\\n\".format(precision))\r\n",
    "output_file.write(\"{:.2f}\\n\".format(recall))\r\n",
    "output_file.write(\"{:.2f}\".format(f1))\r\n",
    "output_file.close()"
   ]
  },
  {
   "cell_type": "code",
   "execution_count": null,
   "metadata": {
    "id": "GDsTSTOx6xUV"
   },
   "outputs": [],
   "source": [
    "#keeping the required dataset\r\n",
    "prod3.to_json('prod3_Vader_predictions.json',compression='gzip')"
   ]
  },
  {
   "cell_type": "markdown",
   "metadata": {
    "id": "lVMx-dhhP4Ku"
   },
   "source": [
    "## K-Means Clustering with Word2Vec Model\r\n",
    "\r\n",
    "Word2Vec uses a Neural Network model to learn association between words . Can either be trained from the data by creating a vocabulary or by using the pre-trained corpus\r\n",
    "\r\n",
    "The process we followed-\r\n",
    "\r\n",
    "- Text Preparation with tokenization and lemmatization\r\n",
    "- Created and Trained a Word2Vec model using `gensim` \r\n",
    "- Clustered using K-means and determined positive and negative cluster based on words\r\n",
    "- Created Tf-IDF vectors \r\n",
    "- Mapped the sentiment coefficients to tokens in the reviews as well as tf-idf vectors\r\n",
    "- Dot product of these two vectors for each review gives us the sentiment. 1 is positive 0 is negative"
   ]
  },
  {
   "cell_type": "markdown",
   "metadata": {
    "id": "L5-0vFrAazFP"
   },
   "source": [
    "### Load the Top Product Reviews Data and Create a Subset for Product 3 - Mario Badescu Facial Spray"
   ]
  },
  {
   "cell_type": "code",
   "execution_count": null,
   "metadata": {
    "id": "Z1dX0iy2bCQF"
   },
   "outputs": [],
   "source": [
    "reviews= pd.read_json(\"top_prod_reviews.json\",compression=\"gzip\")\r\n",
    "reviews.head()"
   ]
  },
  {
   "cell_type": "code",
   "execution_count": null,
   "metadata": {
    "colab": {
     "base_uri": "https://localhost:8080/",
     "height": 832
    },
    "id": "Py04PIWJbo0y",
    "outputId": "ec0032f2-fd08-4c71-dc0f-e3f0488b54a8"
   },
   "outputs": [
    {
     "data": {
      "text/html": [
       "<div>\n",
       "<style scoped>\n",
       "    .dataframe tbody tr th:only-of-type {\n",
       "        vertical-align: middle;\n",
       "    }\n",
       "\n",
       "    .dataframe tbody tr th {\n",
       "        vertical-align: top;\n",
       "    }\n",
       "\n",
       "    .dataframe thead th {\n",
       "        text-align: right;\n",
       "    }\n",
       "</style>\n",
       "<table border=\"1\" class=\"dataframe\">\n",
       "  <thead>\n",
       "    <tr style=\"text-align: right;\">\n",
       "      <th></th>\n",
       "      <th>overall</th>\n",
       "      <th>vote</th>\n",
       "      <th>reviewerID</th>\n",
       "      <th>asin</th>\n",
       "      <th>reviewerName</th>\n",
       "      <th>reviewText</th>\n",
       "      <th>summary</th>\n",
       "      <th>description</th>\n",
       "      <th>fit</th>\n",
       "      <th>title</th>\n",
       "      <th>also_buy</th>\n",
       "      <th>rank</th>\n",
       "      <th>also_view</th>\n",
       "      <th>price</th>\n",
       "      <th>rank_amazon</th>\n",
       "      <th>desc</th>\n",
       "    </tr>\n",
       "  </thead>\n",
       "  <tbody>\n",
       "    <tr>\n",
       "      <th>173529</th>\n",
       "      <td>5</td>\n",
       "      <td>23</td>\n",
       "      <td>A1FZMDMDM9D81Z</td>\n",
       "      <td>B00172O9NO</td>\n",
       "      <td>The Cat&amp;#039;s Meow</td>\n",
       "      <td>I love this facial mist by Mario Badescu! It's...</td>\n",
       "      <td>Fresh!</td>\n",
       "      <td>['A refreshing, hydrating mist to use anywhere...</td>\n",
       "      <td></td>\n",
       "      <td>Mario Badescu Facial Spray with Aloe, Herbs a...</td>\n",
       "      <td>[B0017SWIU4, B07BSV1T35, B0014P8L9W, B07DYDD49...</td>\n",
       "      <td>524 in Beauty &amp; Personal Care (</td>\n",
       "      <td>[B07849F4R5, B076XKLQ2T, B07G1493ZM, B00LBHEP3...</td>\n",
       "      <td>$12.00</td>\n",
       "      <td>524</td>\n",
       "      <td>'A refreshing, hydrating mist to use anywhere ...</td>\n",
       "    </tr>\n",
       "    <tr>\n",
       "      <th>173530</th>\n",
       "      <td>5</td>\n",
       "      <td>0</td>\n",
       "      <td>A9U6XNKG8RYYI</td>\n",
       "      <td>B00172O9NO</td>\n",
       "      <td>Tise~</td>\n",
       "      <td>I use it as a facial spray at night and as a m...</td>\n",
       "      <td>I use it as a facial spray at night and ...</td>\n",
       "      <td>['A refreshing, hydrating mist to use anywhere...</td>\n",
       "      <td></td>\n",
       "      <td>Mario Badescu Facial Spray with Aloe, Herbs a...</td>\n",
       "      <td>[B0017SWIU4, B07BSV1T35, B0014P8L9W, B07DYDD49...</td>\n",
       "      <td>524 in Beauty &amp; Personal Care (</td>\n",
       "      <td>[B07849F4R5, B076XKLQ2T, B07G1493ZM, B00LBHEP3...</td>\n",
       "      <td>$12.00</td>\n",
       "      <td>524</td>\n",
       "      <td>'A refreshing, hydrating mist to use anywhere ...</td>\n",
       "    </tr>\n",
       "    <tr>\n",
       "      <th>173531</th>\n",
       "      <td>5</td>\n",
       "      <td>0</td>\n",
       "      <td>ACXEUZEAZ276A</td>\n",
       "      <td>B00172O9NO</td>\n",
       "      <td>Amazon Customer</td>\n",
       "      <td>This beauty stays in my handbag to help rehydr...</td>\n",
       "      <td>this is just perfect. It refreshes my skin and...</td>\n",
       "      <td>['A refreshing, hydrating mist to use anywhere...</td>\n",
       "      <td></td>\n",
       "      <td>Mario Badescu Facial Spray with Aloe, Herbs a...</td>\n",
       "      <td>[B0017SWIU4, B07BSV1T35, B0014P8L9W, B07DYDD49...</td>\n",
       "      <td>524 in Beauty &amp; Personal Care (</td>\n",
       "      <td>[B07849F4R5, B076XKLQ2T, B07G1493ZM, B00LBHEP3...</td>\n",
       "      <td>$12.00</td>\n",
       "      <td>524</td>\n",
       "      <td>'A refreshing, hydrating mist to use anywhere ...</td>\n",
       "    </tr>\n",
       "    <tr>\n",
       "      <th>173532</th>\n",
       "      <td>5</td>\n",
       "      <td>0</td>\n",
       "      <td>A7SJJ5JNG94XS</td>\n",
       "      <td>B00172O9NO</td>\n",
       "      <td>Amazon Customer</td>\n",
       "      <td>love it! keep it in my bag and spritz myself t...</td>\n",
       "      <td>love it! keep it in my bag and spritz ...</td>\n",
       "      <td>['A refreshing, hydrating mist to use anywhere...</td>\n",
       "      <td></td>\n",
       "      <td>Mario Badescu Facial Spray with Aloe, Herbs a...</td>\n",
       "      <td>[B0017SWIU4, B07BSV1T35, B0014P8L9W, B07DYDD49...</td>\n",
       "      <td>524 in Beauty &amp; Personal Care (</td>\n",
       "      <td>[B07849F4R5, B076XKLQ2T, B07G1493ZM, B00LBHEP3...</td>\n",
       "      <td>$12.00</td>\n",
       "      <td>524</td>\n",
       "      <td>'A refreshing, hydrating mist to use anywhere ...</td>\n",
       "    </tr>\n",
       "    <tr>\n",
       "      <th>173533</th>\n",
       "      <td>5</td>\n",
       "      <td>0</td>\n",
       "      <td>A2TWZFOKWB0O29</td>\n",
       "      <td>B00172O9NO</td>\n",
       "      <td>Crystal Hernandez</td>\n",
       "      <td>Can you say miracle for my skin my skin is ver...</td>\n",
       "      <td>Miracle for my skin</td>\n",
       "      <td>['A refreshing, hydrating mist to use anywhere...</td>\n",
       "      <td></td>\n",
       "      <td>Mario Badescu Facial Spray with Aloe, Herbs a...</td>\n",
       "      <td>[B0017SWIU4, B07BSV1T35, B0014P8L9W, B07DYDD49...</td>\n",
       "      <td>524 in Beauty &amp; Personal Care (</td>\n",
       "      <td>[B07849F4R5, B076XKLQ2T, B07G1493ZM, B00LBHEP3...</td>\n",
       "      <td>$12.00</td>\n",
       "      <td>524</td>\n",
       "      <td>'A refreshing, hydrating mist to use anywhere ...</td>\n",
       "    </tr>\n",
       "  </tbody>\n",
       "</table>\n",
       "</div>"
      ],
      "text/plain": [
       "        overall  ...                                               desc\n",
       "173529        5  ...  'A refreshing, hydrating mist to use anywhere ...\n",
       "173530        5  ...  'A refreshing, hydrating mist to use anywhere ...\n",
       "173531        5  ...  'A refreshing, hydrating mist to use anywhere ...\n",
       "173532        5  ...  'A refreshing, hydrating mist to use anywhere ...\n",
       "173533        5  ...  'A refreshing, hydrating mist to use anywhere ...\n",
       "\n",
       "[5 rows x 16 columns]"
      ]
     },
     "execution_count": 7,
     "metadata": {
      "tags": []
     },
     "output_type": "execute_result"
    }
   ],
   "source": [
    "prod3= reviews[reviews['asin']=='B00172O9NO'] #filtering the reviews for this particular product\r\n",
    "prod3.head()"
   ]
  },
  {
   "cell_type": "code",
   "execution_count": null,
   "metadata": {
    "colab": {
     "base_uri": "https://localhost:8080/"
    },
    "id": "d9-rS3M8VO6D",
    "outputId": "9e02b0d1-ef23-4110-d695-c50f0dc99244"
   },
   "outputs": [
    {
     "data": {
      "text/plain": [
       "(6126, 16)"
      ]
     },
     "execution_count": 8,
     "metadata": {
      "tags": []
     },
     "output_type": "execute_result"
    }
   ],
   "source": [
    "prod3.shape"
   ]
  },
  {
   "cell_type": "markdown",
   "metadata": {
    "id": "R4MxVbvaMuz3"
   },
   "source": [
    "### Text Preparation"
   ]
  },
  {
   "cell_type": "code",
   "execution_count": null,
   "metadata": {
    "colab": {
     "base_uri": "https://localhost:8080/"
    },
    "id": "3L5zF_u8b0ox",
    "outputId": "80b94366-0f91-4070-e0d5-a676825d7290"
   },
   "outputs": [
    {
     "name": "stderr",
     "output_type": "stream",
     "text": [
      "/usr/local/lib/python3.7/dist-packages/ipykernel_launcher.py:1: SettingWithCopyWarning: \n",
      "A value is trying to be set on a copy of a slice from a DataFrame.\n",
      "Try using .loc[row_indexer,col_indexer] = value instead\n",
      "\n",
      "See the caveats in the documentation: https://pandas.pydata.org/pandas-docs/stable/user_guide/indexing.html#returning-a-view-versus-a-copy\n",
      "  \"\"\"Entry point for launching an IPython kernel.\n"
     ]
    }
   ],
   "source": [
    "prod3['reviewText']= prod3['reviewText'].apply(lambda x: x.lower())"
   ]
  },
  {
   "cell_type": "code",
   "execution_count": null,
   "metadata": {
    "id": "jGAkoJ7UdqAV"
   },
   "outputs": [],
   "source": [
    "nlp= spacy.load(\"en_core_web_sm\") #loading spacy and adding stopwords\r\n",
    "nlp.Defaults.stop_words.add(\"facial\")\r\n",
    "nlp.Defaults.stop_words.add(\"spray\")\r\n",
    "nlp.Defaults.stop_words.add(\"mist\")\r\n",
    "nlp.Defaults.stop_words.add(\"mario\")\r\n",
    "nlp.Defaults.stop_words.add(\"badescu\")\r\n",
    "nlp.Defaults.stop_words.add(\"skin\")\r\n",
    "nlp.Defaults.stop_words.add(\"product\")\r\n",
    "nlp.Defaults.stop_words.add(\"products\")"
   ]
  },
  {
   "cell_type": "code",
   "execution_count": null,
   "metadata": {
    "id": "EaiYzk4KdnZK"
   },
   "outputs": [],
   "source": [
    "def remove_stopwords(text): #custom tokenizer with emphasis on nouns, adjective and verbs\r\n",
    "  '''\r\n",
    "  Args\r\n",
    "\r\n",
    "  text : a string of product review\r\n",
    "\r\n",
    "  Return:\r\n",
    "\r\n",
    "  tokens: a list of tokens without stopwords and punctutaions\r\n",
    "  '''\r\n",
    "  tokens=[]\r\n",
    "  doc=nlp(text)\r\n",
    "  for word in doc:\r\n",
    "    if word.is_stop==False:\r\n",
    "      if word.is_punct==False:\r\n",
    "        if word.pos_=='ADJ' or word.pos_==\"NOUN\" or word.pos_==\"VERB\":\r\n",
    "          tokens.append(word.text)\r\n",
    "  \r\n",
    "  return tokens"
   ]
  },
  {
   "cell_type": "code",
   "execution_count": null,
   "metadata": {
    "colab": {
     "base_uri": "https://localhost:8080/"
    },
    "id": "YH4EgZ3bdzIp",
    "outputId": "89a68a69-0aa8-4775-ad06-b6a570f0e41c"
   },
   "outputs": [
    {
     "name": "stderr",
     "output_type": "stream",
     "text": [
      "/usr/local/lib/python3.7/dist-packages/ipykernel_launcher.py:1: SettingWithCopyWarning: \n",
      "A value is trying to be set on a copy of a slice from a DataFrame.\n",
      "Try using .loc[row_indexer,col_indexer] = value instead\n",
      "\n",
      "See the caveats in the documentation: https://pandas.pydata.org/pandas-docs/stable/user_guide/indexing.html#returning-a-view-versus-a-copy\n",
      "  \"\"\"Entry point for launching an IPython kernel.\n"
     ]
    }
   ],
   "source": [
    "prod3['reviewsTokens']=prod3['reviewText'].apply(lambda x: remove_stopwords(x)) #applying stop words to the review text"
   ]
  },
  {
   "cell_type": "markdown",
   "metadata": {
    "id": "gXUMXf8BM-V1"
   },
   "source": [
    "### Word2Vec Model"
   ]
  },
  {
   "cell_type": "code",
   "execution_count": null,
   "metadata": {
    "id": "Efgc96h1jr0F"
   },
   "outputs": [],
   "source": [
    "sent = [row for row in prod3['reviewsTokens'].to_list()]"
   ]
  },
  {
   "cell_type": "code",
   "execution_count": null,
   "metadata": {
    "id": "uB7bGGtAeHcR"
   },
   "outputs": [],
   "source": [
    "wv_model= Word2Vec(min_count=5,window=4,size=300)"
   ]
  },
  {
   "cell_type": "code",
   "execution_count": null,
   "metadata": {
    "id": "oc6NGtw8eXmS"
   },
   "outputs": [],
   "source": [
    "wv_model.build_vocab(sent) #building word2Vec vocabulary"
   ]
  },
  {
   "cell_type": "code",
   "execution_count": null,
   "metadata": {
    "id": "z1Sj1dExgK0k"
   },
   "outputs": [],
   "source": [
    "wv_model.train(sent, total_examples= wv_model.corpus_total_words,epochs=30, report_delay=1)\r\n",
    "wv_model.init_sims(replace=True) #training and mapping similarity probabilities"
   ]
  },
  {
   "cell_type": "code",
   "execution_count": null,
   "metadata": {
    "id": "JAI9ybVLgex2"
   },
   "outputs": [],
   "source": [
    "wv_model.save(\"w2vModel_prod3.model\")"
   ]
  },
  {
   "cell_type": "code",
   "execution_count": null,
   "metadata": {
    "id": "0UgSXbUBgt3C"
   },
   "outputs": [],
   "source": [
    "word_vectors= Word2Vec.load(\"w2vModel_prod3.model\").wv"
   ]
  },
  {
   "cell_type": "code",
   "execution_count": null,
   "metadata": {
    "colab": {
     "base_uri": "https://localhost:8080/"
    },
    "id": "HvQ52ThPTAwo",
    "outputId": "34f34176-93d0-44a9-af63-0d4a71a69f87"
   },
   "outputs": [
    {
     "data": {
      "text/plain": [
       "(1369, 300)"
      ]
     },
     "execution_count": 19,
     "metadata": {
      "tags": []
     },
     "output_type": "execute_result"
    }
   ],
   "source": [
    "word_vectors.vectors.shape"
   ]
  },
  {
   "cell_type": "markdown",
   "metadata": {
    "id": "ftONtd_5NSI-"
   },
   "source": [
    "### K Means Clustering with Word2Vec"
   ]
  },
  {
   "cell_type": "code",
   "execution_count": null,
   "metadata": {
    "id": "2QjLC7FohH-K"
   },
   "outputs": [],
   "source": [
    "model_kmeans=KMeans(n_clusters=2, max_iter=10000, random_state=True, n_init=50).fit(X=word_vectors.vectors.astype('double'))"
   ]
  },
  {
   "cell_type": "code",
   "execution_count": null,
   "metadata": {
    "colab": {
     "base_uri": "https://localhost:8080/"
    },
    "id": "yq8kK3EihWQo",
    "outputId": "20a8ca8a-e3c8-4df4-9d71-5e99d957735e"
   },
   "outputs": [
    {
     "data": {
      "text/plain": [
       "[('exact', 0.940514326095581),\n",
       " ('disappoint', 0.9379125833511353),\n",
       " ('produce', 0.934934139251709),\n",
       " ('older', 0.9216790199279785),\n",
       " ('hyped', 0.9185928106307983),\n",
       " ('comments', 0.9180516004562378),\n",
       " ('tested', 0.9158099889755249),\n",
       " ('mother', 0.9143916964530945),\n",
       " ('search', 0.9124948978424072),\n",
       " ('samples', 0.9122572541236877),\n",
       " ('book', 0.9089068174362183),\n",
       " ('quarter', 0.9054259061813354),\n",
       " ('birthday', 0.9044948816299438),\n",
       " ('photo', 0.9033135175704956),\n",
       " ('opposite', 0.9017788171768188),\n",
       " ('zits', 0.8999792337417603),\n",
       " ('filled', 0.894506573677063),\n",
       " ('fewer', 0.8919343948364258),\n",
       " ('fair', 0.8910698294639587),\n",
       " ('returning', 0.8887037634849548),\n",
       " ('recent', 0.8866732716560364),\n",
       " ('soaked', 0.8864898681640625),\n",
       " ('cancer', 0.8831316828727722),\n",
       " ('arm', 0.8825122117996216),\n",
       " ('advertised', 0.8823010325431824),\n",
       " ('listen', 0.8819247484207153),\n",
       " ('pictures', 0.8800514936447144),\n",
       " ('description', 0.8759095668792725),\n",
       " ('changing', 0.8752049207687378),\n",
       " ('delivered', 0.8746945261955261),\n",
       " ('website', 0.87397301197052),\n",
       " ('planning', 0.8739220499992371),\n",
       " ('doubt', 0.8734384775161743),\n",
       " ('research', 0.8707301616668701),\n",
       " ('awful', 0.8687248229980469),\n",
       " ('ll', 0.8684785962104797),\n",
       " ('law', 0.8673422336578369),\n",
       " ('case', 0.8669040203094482),\n",
       " ('warn', 0.8668564558029175),\n",
       " ('decide', 0.866600513458252),\n",
       " ('significant', 0.8665236234664917),\n",
       " ('present', 0.8646025657653809),\n",
       " ('poor', 0.8637549877166748),\n",
       " ('offers', 0.8637220859527588),\n",
       " ('return', 0.8629430532455444),\n",
       " ('leaf', 0.8594556450843811),\n",
       " ('wasted', 0.8591321706771851),\n",
       " ('realized', 0.8555050492286682),\n",
       " ('version', 0.8554152250289917),\n",
       " ('thyme', 0.8546600341796875)]"
      ]
     },
     "execution_count": 21,
     "metadata": {
      "tags": []
     },
     "output_type": "execute_result"
    }
   ],
   "source": [
    "word_vectors.similar_by_vector(model_kmeans.cluster_centers_[0], topn=50,restrict_vocab=None)"
   ]
  },
  {
   "cell_type": "code",
   "execution_count": null,
   "metadata": {
    "id": "bDZ63aQOzte6"
   },
   "outputs": [],
   "source": [
    "positive_cluster_index = 1   #defining clusters\r\n",
    "positive_cluster_center = model_kmeans.cluster_centers_[positive_cluster_index]\r\n",
    "negative_cluster_center = model_kmeans.cluster_centers_[1-positive_cluster_index]"
   ]
  },
  {
   "cell_type": "code",
   "execution_count": null,
   "metadata": {
    "id": "MnIoCMem8s5X"
   },
   "outputs": [],
   "source": [
    "words = pd.DataFrame(word_vectors.vocab.keys())\r\n",
    "words.columns = ['words']\r\n",
    "words['vectors'] = words.words.apply(lambda x: word_vectors[f'{x}'])\r\n",
    "words['cluster'] = words.vectors.apply(lambda x: model_kmeans.predict([np.array(x)]))\r\n",
    "words.cluster = words.cluster.apply(lambda x: x[0])\r\n",
    "words['cluster_value'] = [1 if i==positive_cluster_index else -1 for i in words.cluster]\r\n",
    "words['closeness_score'] = words.apply(lambda x: 1/(model_kmeans.transform([x.vectors]).min()), axis=1)\r\n",
    "words['sentiment_coeff'] = words.closeness_score * words.cluster_value"
   ]
  },
  {
   "cell_type": "code",
   "execution_count": null,
   "metadata": {
    "colab": {
     "base_uri": "https://localhost:8080/",
     "height": 536
    },
    "id": "PY2hVvPL890D",
    "outputId": "59d03436-8d8a-4f03-d576-e36a5ae0e541"
   },
   "outputs": [
    {
     "data": {
      "text/html": [
       "<div>\n",
       "<style scoped>\n",
       "    .dataframe tbody tr th:only-of-type {\n",
       "        vertical-align: middle;\n",
       "    }\n",
       "\n",
       "    .dataframe tbody tr th {\n",
       "        vertical-align: top;\n",
       "    }\n",
       "\n",
       "    .dataframe thead th {\n",
       "        text-align: right;\n",
       "    }\n",
       "</style>\n",
       "<table border=\"1\" class=\"dataframe\">\n",
       "  <thead>\n",
       "    <tr style=\"text-align: right;\">\n",
       "      <th></th>\n",
       "      <th>words</th>\n",
       "      <th>vectors</th>\n",
       "      <th>cluster</th>\n",
       "      <th>cluster_value</th>\n",
       "      <th>closeness_score</th>\n",
       "      <th>sentiment_coeff</th>\n",
       "    </tr>\n",
       "  </thead>\n",
       "  <tbody>\n",
       "    <tr>\n",
       "      <th>0</th>\n",
       "      <td>love</td>\n",
       "      <td>[0.054054536, -0.039824, 0.021605821, 0.090243...</td>\n",
       "      <td>1</td>\n",
       "      <td>1</td>\n",
       "      <td>1.085381</td>\n",
       "      <td>1.085381</td>\n",
       "    </tr>\n",
       "    <tr>\n",
       "      <th>1</th>\n",
       "      <td>expect</td>\n",
       "      <td>[-0.06700812, -0.018236598, 0.021113714, 0.069...</td>\n",
       "      <td>0</td>\n",
       "      <td>-1</td>\n",
       "      <td>1.149298</td>\n",
       "      <td>-1.149298</td>\n",
       "    </tr>\n",
       "    <tr>\n",
       "      <th>2</th>\n",
       "      <td>refreshing</td>\n",
       "      <td>[-0.009741704, 0.013952433, 0.033470094, 0.001...</td>\n",
       "      <td>1</td>\n",
       "      <td>1</td>\n",
       "      <td>1.113319</td>\n",
       "      <td>1.113319</td>\n",
       "    </tr>\n",
       "    <tr>\n",
       "      <th>3</th>\n",
       "      <td>smells</td>\n",
       "      <td>[0.06828068, 0.02422702, 0.057187192, -0.05174...</td>\n",
       "      <td>1</td>\n",
       "      <td>1</td>\n",
       "      <td>1.017230</td>\n",
       "      <td>1.017230</td>\n",
       "    </tr>\n",
       "    <tr>\n",
       "      <th>4</th>\n",
       "      <td>nice</td>\n",
       "      <td>[-0.04043596, -0.008818817, 0.037602156, 0.061...</td>\n",
       "      <td>1</td>\n",
       "      <td>1</td>\n",
       "      <td>1.097610</td>\n",
       "      <td>1.097610</td>\n",
       "    </tr>\n",
       "    <tr>\n",
       "      <th>5</th>\n",
       "      <td>sprays</td>\n",
       "      <td>[0.053206764, 0.02214973, 0.06405523, 0.027011...</td>\n",
       "      <td>1</td>\n",
       "      <td>1</td>\n",
       "      <td>0.970828</td>\n",
       "      <td>0.970828</td>\n",
       "    </tr>\n",
       "    <tr>\n",
       "      <th>6</th>\n",
       "      <td>purse</td>\n",
       "      <td>[0.07565121, 0.008380029, 0.05446421, 0.142871...</td>\n",
       "      <td>1</td>\n",
       "      <td>1</td>\n",
       "      <td>1.007161</td>\n",
       "      <td>1.007161</td>\n",
       "    </tr>\n",
       "    <tr>\n",
       "      <th>7</th>\n",
       "      <td>sized</td>\n",
       "      <td>[0.061913114, 0.029173922, 0.055918306, 0.1139...</td>\n",
       "      <td>0</td>\n",
       "      <td>-1</td>\n",
       "      <td>1.196492</td>\n",
       "      <td>-1.196492</td>\n",
       "    </tr>\n",
       "    <tr>\n",
       "      <th>8</th>\n",
       "      <td>looking</td>\n",
       "      <td>[0.03614129, -0.049314924, 0.08394348, -0.0611...</td>\n",
       "      <td>1</td>\n",
       "      <td>1</td>\n",
       "      <td>1.049559</td>\n",
       "      <td>1.049559</td>\n",
       "    </tr>\n",
       "    <tr>\n",
       "      <th>9</th>\n",
       "      <td>summer</td>\n",
       "      <td>[-0.0662204, 0.101047315, 0.07224134, 0.026967...</td>\n",
       "      <td>1</td>\n",
       "      <td>1</td>\n",
       "      <td>1.065589</td>\n",
       "      <td>1.065589</td>\n",
       "    </tr>\n",
       "  </tbody>\n",
       "</table>\n",
       "</div>"
      ],
      "text/plain": [
       "        words  ... sentiment_coeff\n",
       "0        love  ...        1.085381\n",
       "1      expect  ...       -1.149298\n",
       "2  refreshing  ...        1.113319\n",
       "3      smells  ...        1.017230\n",
       "4        nice  ...        1.097610\n",
       "5      sprays  ...        0.970828\n",
       "6       purse  ...        1.007161\n",
       "7       sized  ...       -1.196492\n",
       "8     looking  ...        1.049559\n",
       "9      summer  ...        1.065589\n",
       "\n",
       "[10 rows x 6 columns]"
      ]
     },
     "execution_count": 24,
     "metadata": {
      "tags": []
     },
     "output_type": "execute_result"
    }
   ],
   "source": [
    "words.head(10)"
   ]
  },
  {
   "cell_type": "code",
   "execution_count": null,
   "metadata": {
    "id": "OQPlwBIG9ISQ"
   },
   "outputs": [],
   "source": [
    "words[['words', 'sentiment_coeff']].to_csv('prod3_sentiment_dictionary.csv', index=False) #saving sentiment dictionary"
   ]
  },
  {
   "cell_type": "markdown",
   "metadata": {
    "id": "WGg8gu8DNpR-"
   },
   "source": [
    "### TF-IDF Vectorizer and Word2Vec Vectors"
   ]
  },
  {
   "cell_type": "code",
   "execution_count": null,
   "metadata": {
    "colab": {
     "base_uri": "https://localhost:8080/"
    },
    "id": "3McQtmNyCEo9",
    "outputId": "11f753ff-d56c-421c-c9e2-410d1ac35f6f"
   },
   "outputs": [
    {
     "name": "stderr",
     "output_type": "stream",
     "text": [
      "/usr/local/lib/python3.7/dist-packages/ipykernel_launcher.py:1: SettingWithCopyWarning: \n",
      "A value is trying to be set on a copy of a slice from a DataFrame.\n",
      "Try using .loc[row_indexer,col_indexer] = value instead\n",
      "\n",
      "See the caveats in the documentation: https://pandas.pydata.org/pandas-docs/stable/user_guide/indexing.html#returning-a-view-versus-a-copy\n",
      "  \"\"\"Entry point for launching an IPython kernel.\n"
     ]
    }
   ],
   "source": [
    "prod3['token_sent']= prod3['reviewsTokens'].apply(lambda x: ' '.join(w for w in x))"
   ]
  },
  {
   "cell_type": "code",
   "execution_count": null,
   "metadata": {
    "colab": {
     "base_uri": "https://localhost:8080/"
    },
    "id": "Df1wFtMb-cno",
    "outputId": "e461a130-fbd0-4d50-f507-07d296758b1f"
   },
   "outputs": [
    {
     "name": "stderr",
     "output_type": "stream",
     "text": [
      "/usr/local/lib/python3.7/dist-packages/sklearn/feature_extraction/text.py:507: UserWarning: The parameter 'token_pattern' will not be used since 'tokenizer' is not None'\n",
      "  warnings.warn(\"The parameter 'token_pattern' will not be used\"\n"
     ]
    }
   ],
   "source": [
    "tf= TfidfVectorizer(tokenizer=remove_stopwords)\r\n",
    "tf.fit(prod3['reviewText'])\r\n",
    "features=pd.Series(tf.get_feature_names())\r\n",
    "transformed = tf.transform(prod3['reviewText'])"
   ]
  },
  {
   "cell_type": "code",
   "execution_count": null,
   "metadata": {
    "id": "QkXiAc_GIfeJ"
   },
   "outputs": [],
   "source": [
    "prod3_justtxt= prod3['token_sent'].reset_index().drop('index',axis=1)"
   ]
  },
  {
   "cell_type": "code",
   "execution_count": null,
   "metadata": {
    "id": "o74Gpx89GkTw"
   },
   "outputs": [],
   "source": [
    "def create_tfidf_dictionary(x, transformed_file, features):\r\n",
    "    '''\r\n",
    "    Return:\r\n",
    "\r\n",
    "    create dictionary for each input sentence x, where each word has assigned its tfidf score\r\n",
    "    \r\n",
    "    Args:\r\n",
    "\r\n",
    "    x - row of dataframe, containing sentences, and their indexes,\r\n",
    "    transformed_file - all sentences transformed with TfidfVectorizer\r\n",
    "    features - names of all words in corpus used in TfidfVectorizer\r\n",
    "\r\n",
    "    '''\r\n",
    "    vector_coo = transformed_file[x.name].tocoo()\r\n",
    "    vector_coo.col = features.iloc[vector_coo.col].values\r\n",
    "    dict_from_coo = dict(zip(vector_coo.col, vector_coo.data))\r\n",
    "    return dict_from_coo\r\n",
    "\r\n",
    "def replace_tfidf_words(x, transformed_file, features):\r\n",
    "    '''\r\n",
    "    Return:\r\n",
    "    list: replacing each word with it's calculated tfidf dictionary with scores of each word\r\n",
    "\r\n",
    "    Args:\r\n",
    "    x - row of dataframe, containing sentences, and their indexes,\r\n",
    "    transformed_file - all sentences transformed with TfidfVectorizer\r\n",
    "    features - names of all words in corpus used in TfidfVectorizer\r\n",
    "    '''\r\n",
    "    dictionary = create_tfidf_dictionary(x, transformed_file, features)   \r\n",
    "    return list(map(lambda y:dictionary[f'{y}'], x.token_sent.split()))"
   ]
  },
  {
   "cell_type": "code",
   "execution_count": null,
   "metadata": {
    "id": "Dv0u3293Gv9c"
   },
   "outputs": [],
   "source": [
    "replaced_tfidf_scores = prod3_justtxt.apply(lambda x: replace_tfidf_words(x, transformed, features), axis=1)#converting text to tf-idf vectors and sentiment vectors"
   ]
  },
  {
   "cell_type": "code",
   "execution_count": null,
   "metadata": {
    "id": "ZZTD3dhBJk6d"
   },
   "outputs": [],
   "source": [
    "def replace_sentiment_words(word, sentiment_dict):\r\n",
    "    '''\r\n",
    "    Return\r\n",
    "    replacing each word with its associated sentiment score from sentiment dict\r\n",
    "\r\n",
    "    Args:\r\n",
    "    word: single token text\r\n",
    "    sentiment_dict: Dictionary created with Word2Vec Model with K Means Clustering\r\n",
    "    '''\r\n",
    "    try:\r\n",
    "        out = sentiment_dict[word]\r\n",
    "    except KeyError:\r\n",
    "        out = 0\r\n",
    "    return out"
   ]
  },
  {
   "cell_type": "code",
   "execution_count": null,
   "metadata": {
    "id": "M8i09k_IJ-Y1"
   },
   "outputs": [],
   "source": [
    "sentiment_map = pd.read_csv('prod3_sentiment_dictionary.csv')\r\n",
    "sentiment_dict = dict(zip(sentiment_map.words.values, sentiment_map.sentiment_coeff.values))"
   ]
  },
  {
   "cell_type": "code",
   "execution_count": null,
   "metadata": {
    "id": "5PSXoVwSJ0fv"
   },
   "outputs": [],
   "source": [
    "replaced_closeness_scores = prod3.token_sent.apply(lambda x: list(map(lambda y: replace_sentiment_words(y, sentiment_dict), x.split()))).reset_index()"
   ]
  },
  {
   "cell_type": "markdown",
   "metadata": {
    "id": "jrFTjv-5Omri"
   },
   "source": [
    "### Prediction Using Sentiment Coefficients and TF-IDF Scores"
   ]
  },
  {
   "cell_type": "code",
   "execution_count": null,
   "metadata": {
    "colab": {
     "base_uri": "https://localhost:8080/"
    },
    "id": "TkyG-y_cKLye",
    "outputId": "b301da1a-8e35-4431-8681-cd1e16e36088"
   },
   "outputs": [
    {
     "name": "stderr",
     "output_type": "stream",
     "text": [
      "/usr/local/lib/python3.7/dist-packages/ipykernel_launcher.py:1: SettingWithCopyWarning: \n",
      "A value is trying to be set on a copy of a slice from a DataFrame.\n",
      "Try using .loc[row_indexer,col_indexer] = value instead\n",
      "\n",
      "See the caveats in the documentation: https://pandas.pydata.org/pandas-docs/stable/user_guide/indexing.html#returning-a-view-versus-a-copy\n",
      "  \"\"\"Entry point for launching an IPython kernel.\n"
     ]
    }
   ],
   "source": [
    "prod3['rate']=prod3['overall'].apply(lambda x: 1 if x>3 else -1)"
   ]
  },
  {
   "cell_type": "code",
   "execution_count": null,
   "metadata": {
    "id": "VL-Nx5rRKI2G"
   },
   "outputs": [],
   "source": [
    "replaced_closeness_scores=replaced_closeness_scores.drop('index',axis=1).squeeze()\r\n",
    "prod1_reviews= prod3['reviewText'].reset_index().drop('index',axis=1).squeeze()\r\n",
    "prod1_rate= prod3['rate'].reset_index().drop('index',axis=1).squeeze()"
   ]
  },
  {
   "cell_type": "code",
   "execution_count": null,
   "metadata": {
    "id": "M7b1rXUFLjW6"
   },
   "outputs": [],
   "source": [
    "replacement_df = pd.DataFrame(data=[replaced_closeness_scores, replaced_tfidf_scores, prod1_reviews, prod1_rate]).T\r\n",
    "replacement_df.columns = ['sentiment_coeff', 'tfidf_scores', 'sentence', 'sentiment']"
   ]
  },
  {
   "cell_type": "code",
   "execution_count": null,
   "metadata": {
    "id": "myq5MNk5LHtn"
   },
   "outputs": [],
   "source": [
    "replacement_df['sentiment_rate'] = replacement_df.apply(lambda x: np.array(x.loc['sentiment_coeff']) @ np.array(x.loc['tfidf_scores']), axis=1)\r\n",
    "replacement_df['prediction'] = (replacement_df.sentiment_rate>0).astype('int8')\r\n",
    "replacement_df['sentiment'] = [1 if i==1 else 0 for i in replacement_df.sentiment]"
   ]
  },
  {
   "cell_type": "code",
   "execution_count": null,
   "metadata": {
    "colab": {
     "base_uri": "https://localhost:8080/",
     "height": 379
    },
    "id": "aCBd07JzN7bB",
    "outputId": "04eca5d4-29e4-4757-989e-3cfb17b43da3"
   },
   "outputs": [
    {
     "data": {
      "text/html": [
       "<div>\n",
       "<style scoped>\n",
       "    .dataframe tbody tr th:only-of-type {\n",
       "        vertical-align: middle;\n",
       "    }\n",
       "\n",
       "    .dataframe tbody tr th {\n",
       "        vertical-align: top;\n",
       "    }\n",
       "\n",
       "    .dataframe thead th {\n",
       "        text-align: right;\n",
       "    }\n",
       "</style>\n",
       "<table border=\"1\" class=\"dataframe\">\n",
       "  <thead>\n",
       "    <tr style=\"text-align: right;\">\n",
       "      <th></th>\n",
       "      <th>sentiment_coeff</th>\n",
       "      <th>tfidf_scores</th>\n",
       "      <th>sentence</th>\n",
       "      <th>sentiment</th>\n",
       "      <th>sentiment_rate</th>\n",
       "      <th>prediction</th>\n",
       "    </tr>\n",
       "  </thead>\n",
       "  <tbody>\n",
       "    <tr>\n",
       "      <th>0</th>\n",
       "      <td>[1.0853811938791746, -1.1492975661110274, 1.11...</td>\n",
       "      <td>[0.14384660590286968, 0.45041268078504226, 0.1...</td>\n",
       "      <td>i love this facial mist by mario badescu! it's...</td>\n",
       "      <td>1</td>\n",
       "      <td>1.073106</td>\n",
       "      <td>1</td>\n",
       "    </tr>\n",
       "    <tr>\n",
       "      <th>1</th>\n",
       "      <td>[1.1673462474982024, 1.1458459299294674, 1.140...</td>\n",
       "      <td>[0.19969344246136544, 0.3576564760316081, 0.21...</td>\n",
       "      <td>i use it as a facial spray at night and as a m...</td>\n",
       "      <td>1</td>\n",
       "      <td>1.351234</td>\n",
       "      <td>1</td>\n",
       "    </tr>\n",
       "    <tr>\n",
       "      <th>2</th>\n",
       "      <td>[0.9673869996812434, 1.4170756085891307, 0, 1....</td>\n",
       "      <td>[0.1557477301823639, 0.2242495321936934, 0.248...</td>\n",
       "      <td>this beauty stays in my handbag to help rehydr...</td>\n",
       "      <td>1</td>\n",
       "      <td>-0.550113</td>\n",
       "      <td>0</td>\n",
       "    </tr>\n",
       "    <tr>\n",
       "      <th>3</th>\n",
       "      <td>[1.0853811938791746, -1.1029119953340638, 1.19...</td>\n",
       "      <td>[0.13615069589496348, 0.3451754542465258, 0.29...</td>\n",
       "      <td>love it! keep it in my bag and spritz myself t...</td>\n",
       "      <td>1</td>\n",
       "      <td>2.792346</td>\n",
       "      <td>1</td>\n",
       "    </tr>\n",
       "    <tr>\n",
       "      <th>4</th>\n",
       "      <td>[-1.4109101747299142, 1.1185383255535568, -1.2...</td>\n",
       "      <td>[0.263875825246971, 0.13023229880481388, 0.292...</td>\n",
       "      <td>can you say miracle for my skin my skin is ver...</td>\n",
       "      <td>1</td>\n",
       "      <td>0.255195</td>\n",
       "      <td>1</td>\n",
       "    </tr>\n",
       "  </tbody>\n",
       "</table>\n",
       "</div>"
      ],
      "text/plain": [
       "                                     sentiment_coeff  ... prediction\n",
       "0  [1.0853811938791746, -1.1492975661110274, 1.11...  ...          1\n",
       "1  [1.1673462474982024, 1.1458459299294674, 1.140...  ...          1\n",
       "2  [0.9673869996812434, 1.4170756085891307, 0, 1....  ...          0\n",
       "3  [1.0853811938791746, -1.1029119953340638, 1.19...  ...          1\n",
       "4  [-1.4109101747299142, 1.1185383255535568, -1.2...  ...          1\n",
       "\n",
       "[5 rows x 6 columns]"
      ]
     },
     "execution_count": 40,
     "metadata": {
      "tags": []
     },
     "output_type": "execute_result"
    }
   ],
   "source": [
    "replacement_df.head()"
   ]
  },
  {
   "cell_type": "code",
   "execution_count": null,
   "metadata": {
    "id": "Kv5YLJJFPBnH"
   },
   "outputs": [],
   "source": [
    "replacement_df.to_json('prod3_KmeansWord2Vec_predictions.json',compression='gzip')"
   ]
  },
  {
   "cell_type": "markdown",
   "metadata": {
    "id": "_bT3JJHyO4W9"
   },
   "source": [
    "### Evaluating the K-Means with Word2Vec Model for Product 3"
   ]
  },
  {
   "cell_type": "code",
   "execution_count": null,
   "metadata": {
    "id": "WtGoFUW2OLI3"
   },
   "outputs": [],
   "source": [
    "acc= accuracy_score(replacement_df['sentiment'],replacement_df['prediction'])\r\n",
    "precision= precision_score(replacement_df['sentiment'],replacement_df['prediction'])\r\n",
    "recall= recall_score(replacement_df['sentiment'],replacement_df['prediction'])\r\n",
    "f1= f1_score(replacement_df['sentiment'],replacement_df['prediction'])"
   ]
  },
  {
   "cell_type": "code",
   "execution_count": null,
   "metadata": {
    "colab": {
     "base_uri": "https://localhost:8080/"
    },
    "id": "LInKJwJ9Oh3S",
    "outputId": "7688e6e5-5b19-4f1b-959a-7c2d4f5ff661"
   },
   "outputs": [
    {
     "data": {
      "text/plain": [
       "0.7959516813581456"
      ]
     },
     "execution_count": 43,
     "metadata": {
      "tags": []
     },
     "output_type": "execute_result"
    }
   ],
   "source": [
    "acc"
   ]
  },
  {
   "cell_type": "code",
   "execution_count": null,
   "metadata": {
    "colab": {
     "base_uri": "https://localhost:8080/"
    },
    "id": "ybzfEmCmO40Z",
    "outputId": "9fea30d3-02cf-4d86-fb42-644655cab5b6"
   },
   "outputs": [
    {
     "data": {
      "text/plain": [
       "0.923721340388007"
      ]
     },
     "execution_count": 44,
     "metadata": {
      "tags": []
     },
     "output_type": "execute_result"
    }
   ],
   "source": [
    "precision"
   ]
  },
  {
   "cell_type": "code",
   "execution_count": null,
   "metadata": {
    "colab": {
     "base_uri": "https://localhost:8080/"
    },
    "id": "oC4q0W4NPAX_",
    "outputId": "913732e9-b1a3-45ce-c6c1-0058c9764d28"
   },
   "outputs": [
    {
     "data": {
      "text/plain": [
       "0.8225363172359639"
      ]
     },
     "execution_count": 45,
     "metadata": {
      "tags": []
     },
     "output_type": "execute_result"
    }
   ],
   "source": [
    "recall"
   ]
  },
  {
   "cell_type": "code",
   "execution_count": null,
   "metadata": {
    "colab": {
     "base_uri": "https://localhost:8080/"
    },
    "id": "5DTx4FsMpUbF",
    "outputId": "ee7b4270-d7d9-4754-fb36-46167ee82c9f"
   },
   "outputs": [
    {
     "data": {
      "text/plain": [
       "0.8701973001038422"
      ]
     },
     "execution_count": 46,
     "metadata": {
      "tags": []
     },
     "output_type": "execute_result"
    }
   ],
   "source": [
    "f1"
   ]
  },
  {
   "cell_type": "markdown",
   "metadata": {
    "id": "33FWskTFbeay"
   },
   "source": [
    "**Better Precision than VADER but lower recall and F-1 score**"
   ]
  },
  {
   "cell_type": "code",
   "execution_count": null,
   "metadata": {
    "id": "xL8yUxUB8p79"
   },
   "outputs": [],
   "source": [
    "scores= [acc,precision,recall,f1]\r\n",
    "with open(\"prod3_Kmeans_Word2Vec_scores.txt\",\"w\") as f:\r\n",
    "  for i in scores:\r\n",
    "    f.write(\"%.2f\\n\"%i) #writing scores to the disk"
   ]
  },
  {
   "cell_type": "markdown",
   "metadata": {
    "id": "BpCy0KyYPfDr"
   },
   "source": [
    "## K-Means Clustering with Simple Self-Organized Maps for Product 3\r\n",
    "\r\n",
    "Self Organizing Maps are Unsupervised Clustering Neural Network model\r\n",
    "\r\n",
    "Process:\r\n",
    "- Initialize Weights\r\n",
    "- Random Data Point\r\n",
    "- Euclidean Distance\r\n",
    "- Update Weights \r\n",
    "- Repeat\r\n",
    "\r\n",
    "Steps we took :\r\n",
    "- Create a TF -IDF vectorizer and truncate the vectors \r\n",
    "- Use SimpSOM package in Python to create a Self Organizing model\r\n",
    "- Created and Trained a 20x20 Node Network (default and most commonly used value)\r\n",
    "- We then clustered it using K-Means and compared the sentiment and prediction\r\n"
   ]
  },
  {
   "cell_type": "code",
   "execution_count": null,
   "metadata": {
    "id": "P9OAP7WbX4Fs"
   },
   "outputs": [],
   "source": [
    "tf= TfidfVectorizer(tokenizer=remove_stopwords) #create tf-idf vectorizer\r\n",
    "reviews_data= tf.fit_transform(prod3['reviewText'])\r\n",
    "svd= TruncatedSVD(100,random_state=42)\r\n",
    "reviews_de= svd.fit_transform(reviews_data)"
   ]
  },
  {
   "cell_type": "code",
   "execution_count": null,
   "metadata": {
    "colab": {
     "base_uri": "https://localhost:8080/"
    },
    "id": "1XZxeTVxTiC9",
    "outputId": "5d3c1143-39c2-4200-d9f1-4eccb336531b"
   },
   "outputs": [
    {
     "name": "stdout",
     "output_type": "stream",
     "text": [
      "Periodic Boundary Conditions active.\n",
      "The weights will be initialised randomly.\n"
     ]
    }
   ],
   "source": [
    "net= sps.somNet(20,20,reviews_de,PBC=True)#create and train the self organizing maps "
   ]
  },
  {
   "cell_type": "code",
   "execution_count": null,
   "metadata": {
    "colab": {
     "base_uri": "https://localhost:8080/"
    },
    "id": "45JFPGjWTxug",
    "outputId": "15876656-ea07-4ca2-a16b-50729da1c00f"
   },
   "outputs": [
    {
     "name": "stdout",
     "output_type": "stream",
     "text": [
      "Training SOM... done!\n"
     ]
    }
   ],
   "source": [
    "net.train(0.01,5000)"
   ]
  },
  {
   "cell_type": "code",
   "execution_count": null,
   "metadata": {
    "id": "_m4BOy_KQZeE"
   },
   "outputs": [],
   "source": [
    "net.save('weightsSOM_prod3')"
   ]
  },
  {
   "cell_type": "code",
   "execution_count": null,
   "metadata": {
    "colab": {
     "base_uri": "https://localhost:8080/",
     "height": 653
    },
    "id": "AuebkHgyUEH_",
    "outputId": "9d1cccd3-e088-4fd2-9f1c-ee248a8c42cb"
   },
   "outputs": [
    {
     "data": {
      "image/png": "[encoded data removed]",
      "text/plain": [
       "<Figure size 2000x2000 with 2 Axes>"
      ]
     },
     "metadata": {
      "needs_background": "light",
      "tags": []
     },
     "output_type": "display_data"
    }
   ],
   "source": [
    "net.diff_graph()"
   ]
  },
  {
   "cell_type": "markdown",
   "metadata": {
    "id": "WV3FSl5bLhTo"
   },
   "source": [
    "**From the difference graph we can see the clusters for nodes/neurons forming** "
   ]
  },
  {
   "cell_type": "code",
   "execution_count": null,
   "metadata": {
    "colab": {
     "base_uri": "https://localhost:8080/",
     "height": 34
    },
    "id": "bMJgE6G9UKUb",
    "outputId": "23140680-f2d8-4557-d9bf-bb4230438ca3"
   },
   "outputs": [
    {
     "data": {
      "text/plain": [
       "<Figure size 432x288 with 0 Axes>"
      ]
     },
     "metadata": {
      "tags": []
     },
     "output_type": "display_data"
    }
   ],
   "source": [
    "prj= np.array(net.project(reviews_de))"
   ]
  },
  {
   "cell_type": "code",
   "execution_count": null,
   "metadata": {
    "colab": {
     "base_uri": "https://localhost:8080/",
     "height": 206
    },
    "id": "tnLpljpCa1y8",
    "outputId": "a69ccb0b-e197-41a8-e125-e8c1b1580061"
   },
   "outputs": [
    {
     "data": {
      "text/html": [
       "<div>\n",
       "<style scoped>\n",
       "    .dataframe tbody tr th:only-of-type {\n",
       "        vertical-align: middle;\n",
       "    }\n",
       "\n",
       "    .dataframe tbody tr th {\n",
       "        vertical-align: top;\n",
       "    }\n",
       "\n",
       "    .dataframe thead th {\n",
       "        text-align: right;\n",
       "    }\n",
       "</style>\n",
       "<table border=\"1\" class=\"dataframe\">\n",
       "  <thead>\n",
       "    <tr style=\"text-align: right;\">\n",
       "      <th></th>\n",
       "      <th>reviewText</th>\n",
       "      <th>sentiment</th>\n",
       "    </tr>\n",
       "  </thead>\n",
       "  <tbody>\n",
       "    <tr>\n",
       "      <th>0</th>\n",
       "      <td>i love this facial mist by mario badescu! it's...</td>\n",
       "      <td>1</td>\n",
       "    </tr>\n",
       "    <tr>\n",
       "      <th>1</th>\n",
       "      <td>i use it as a facial spray at night and as a m...</td>\n",
       "      <td>1</td>\n",
       "    </tr>\n",
       "    <tr>\n",
       "      <th>2</th>\n",
       "      <td>this beauty stays in my handbag to help rehydr...</td>\n",
       "      <td>1</td>\n",
       "    </tr>\n",
       "    <tr>\n",
       "      <th>3</th>\n",
       "      <td>love it! keep it in my bag and spritz myself t...</td>\n",
       "      <td>1</td>\n",
       "    </tr>\n",
       "    <tr>\n",
       "      <th>4</th>\n",
       "      <td>can you say miracle for my skin my skin is ver...</td>\n",
       "      <td>1</td>\n",
       "    </tr>\n",
       "  </tbody>\n",
       "</table>\n",
       "</div>"
      ],
      "text/plain": [
       "                                          reviewText  sentiment\n",
       "0  i love this facial mist by mario badescu! it's...          1\n",
       "1  i use it as a facial spray at night and as a m...          1\n",
       "2  this beauty stays in my handbag to help rehydr...          1\n",
       "3  love it! keep it in my bag and spritz myself t...          1\n",
       "4  can you say miracle for my skin my skin is ver...          1"
      ]
     },
     "execution_count": 54,
     "metadata": {
      "tags": []
     },
     "output_type": "execute_result"
    }
   ],
   "source": [
    "prod3_som= prod3[['reviewText','rate']].reset_index().drop('index',axis=1)\r\n",
    "prod3_som.rename(columns={'rate':'sentiment'},inplace=True)\r\n",
    "prod3_som.head()\r\n"
   ]
  },
  {
   "cell_type": "code",
   "execution_count": null,
   "metadata": {
    "id": "Rklfqc9lZ8hb"
   },
   "outputs": [],
   "source": [
    "kmeans= KMeans(n_clusters=2,random_state=True).fit(prj) #k-means cluster and defining positive and negative cluster"
   ]
  },
  {
   "cell_type": "code",
   "execution_count": null,
   "metadata": {
    "id": "Pgl5oNJQbUCn"
   },
   "outputs": [],
   "source": [
    "prod3_som['prediction']=kmeans.labels_ #create a prediction column"
   ]
  },
  {
   "cell_type": "code",
   "execution_count": null,
   "metadata": {
    "colab": {
     "base_uri": "https://localhost:8080/",
     "height": 206
    },
    "id": "GdvGBz_Zbk71",
    "outputId": "4982de73-2280-488a-c912-cac83dec0787"
   },
   "outputs": [
    {
     "data": {
      "text/html": [
       "<div>\n",
       "<style scoped>\n",
       "    .dataframe tbody tr th:only-of-type {\n",
       "        vertical-align: middle;\n",
       "    }\n",
       "\n",
       "    .dataframe tbody tr th {\n",
       "        vertical-align: top;\n",
       "    }\n",
       "\n",
       "    .dataframe thead th {\n",
       "        text-align: right;\n",
       "    }\n",
       "</style>\n",
       "<table border=\"1\" class=\"dataframe\">\n",
       "  <thead>\n",
       "    <tr style=\"text-align: right;\">\n",
       "      <th></th>\n",
       "      <th>reviewText</th>\n",
       "      <th>sentiment</th>\n",
       "      <th>prediction</th>\n",
       "    </tr>\n",
       "  </thead>\n",
       "  <tbody>\n",
       "    <tr>\n",
       "      <th>2</th>\n",
       "      <td>this beauty stays in my handbag to help rehydr...</td>\n",
       "      <td>1</td>\n",
       "      <td>1</td>\n",
       "    </tr>\n",
       "    <tr>\n",
       "      <th>4</th>\n",
       "      <td>can you say miracle for my skin my skin is ver...</td>\n",
       "      <td>1</td>\n",
       "      <td>1</td>\n",
       "    </tr>\n",
       "    <tr>\n",
       "      <th>10</th>\n",
       "      <td>pretty good for the price.</td>\n",
       "      <td>1</td>\n",
       "      <td>1</td>\n",
       "    </tr>\n",
       "    <tr>\n",
       "      <th>11</th>\n",
       "      <td>wow... sooo i had clear skin in hs but then st...</td>\n",
       "      <td>1</td>\n",
       "      <td>1</td>\n",
       "    </tr>\n",
       "    <tr>\n",
       "      <th>12</th>\n",
       "      <td>great buy  thank you</td>\n",
       "      <td>1</td>\n",
       "      <td>1</td>\n",
       "    </tr>\n",
       "  </tbody>\n",
       "</table>\n",
       "</div>"
      ],
      "text/plain": [
       "                                           reviewText  sentiment  prediction\n",
       "2   this beauty stays in my handbag to help rehydr...          1           1\n",
       "4   can you say miracle for my skin my skin is ver...          1           1\n",
       "10                         pretty good for the price.          1           1\n",
       "11  wow... sooo i had clear skin in hs but then st...          1           1\n",
       "12                               great buy  thank you          1           1"
      ]
     },
     "execution_count": 58,
     "metadata": {
      "tags": []
     },
     "output_type": "execute_result"
    }
   ],
   "source": [
    "prod3_som[prod3_som['prediction']==1].head()"
   ]
  },
  {
   "cell_type": "code",
   "execution_count": null,
   "metadata": {
    "id": "aEkaKyJDcADS"
   },
   "outputs": [],
   "source": [
    "prod3_som['sentiment']=prod3_som['sentiment'].apply(lambda x: 1 if x==1 else 0)"
   ]
  },
  {
   "cell_type": "code",
   "execution_count": null,
   "metadata": {
    "id": "DhDhfOqZRn8d"
   },
   "outputs": [],
   "source": [
    "prod3_som.to_json('prod3_KmeansSOM.json',compression='gzip') #write the predictions"
   ]
  },
  {
   "cell_type": "markdown",
   "metadata": {
    "id": "PsBtLfDwbLzI"
   },
   "source": [
    "### Evaluating the KMeans with SOM for Product 3"
   ]
  },
  {
   "cell_type": "code",
   "execution_count": null,
   "metadata": {
    "id": "sfjIFES5cQa0"
   },
   "outputs": [],
   "source": [
    "acc=accuracy_score(prod3_som['sentiment'],prod3_som['prediction']) #calculate scores"
   ]
  },
  {
   "cell_type": "code",
   "execution_count": null,
   "metadata": {
    "id": "1jdb85KRcasi"
   },
   "outputs": [],
   "source": [
    "precision=precision_score(prod3_som['sentiment'],prod3_som['prediction'])"
   ]
  },
  {
   "cell_type": "code",
   "execution_count": null,
   "metadata": {
    "id": "zDreoLXncgJc"
   },
   "outputs": [],
   "source": [
    "recall=recall_score(prod3_som['sentiment'],prod3_som['prediction'])"
   ]
  },
  {
   "cell_type": "code",
   "execution_count": null,
   "metadata": {
    "id": "t5CH1ddcckrU"
   },
   "outputs": [],
   "source": [
    "f1=f1_score(prod3_som['sentiment'],prod3_som['prediction'])"
   ]
  },
  {
   "cell_type": "code",
   "execution_count": null,
   "metadata": {
    "colab": {
     "base_uri": "https://localhost:8080/"
    },
    "id": "qRKiD9HP-CdW",
    "outputId": "00837bec-5995-4ac9-e844-7b0bc5f46e47"
   },
   "outputs": [
    {
     "data": {
      "text/plain": [
       "(0.410871694417238,\n",
       " 0.8278145695364238,\n",
       " 0.36808009422850413,\n",
       " 0.5095801059926621)"
      ]
     },
     "execution_count": 65,
     "metadata": {
      "tags": []
     },
     "output_type": "execute_result"
    }
   ],
   "source": [
    "acc, precision,recall,f1"
   ]
  },
  {
   "cell_type": "markdown",
   "metadata": {
    "id": "KbaJ0JSFbo0q"
   },
   "source": [
    "**Perform poorly across all metrics when compared to VADER and Kmeans with Word2Vec**"
   ]
  },
  {
   "cell_type": "code",
   "execution_count": null,
   "metadata": {
    "id": "aHzdY1nB9vQ8"
   },
   "outputs": [],
   "source": [
    "scores= [acc,precision,recall,f1]\r\n",
    "with open(\"prod3_Kmeans_SOM_scores.txt\",\"w\") as f:\r\n",
    "  for i in scores:\r\n",
    "    f.write(\"%.2f\\n\"%i) #write scores for the model"
   ]
  },
  {
   "cell_type": "markdown",
   "metadata": {
    "id": "shpaugQiNwNs"
   },
   "source": [
    "## Evaluating Models on all 3 Products"
   ]
  },
  {
   "cell_type": "code",
   "execution_count": null,
   "metadata": {
    "id": "ZCmylGIYUiCm"
   },
   "outputs": [],
   "source": [
    "scores={'Product':['Product 1','Product 1','Product 1','Product 2','Product 2','Product 2','Product 3','Product 3','Product 3'],\\\r\n",
    "        'Model':['VADER','KMeans Word2Vec','KMeans SOM','VADER','KMeans Word2Vec','KMeans SOM','VADER','KMeans Word2Vec','KMeans SOM'],\\\r\n",
    "        'Accuracy':[],'Precision':[],'Recall':[],'F-1':[]}"
   ]
  },
  {
   "cell_type": "code",
   "execution_count": null,
   "metadata": {
    "id": "dqwDBtFkUcHZ"
   },
   "outputs": [],
   "source": [
    "def read_scores(file): #reading from scores file and adding values to the scores dictionary\r\n",
    "  with open(file,'r') as f:\r\n",
    "    scores_list=[]\r\n",
    "    for line in f:\r\n",
    "      s= line.strip('\\n')\r\n",
    "      scores_list.append(s)\r\n",
    "    scores['Accuracy'].append(float(scores_list[0]))\r\n",
    "    scores['Precision'].append(float(scores_list[1]))\r\n",
    "    scores['Recall'].append(float(scores_list[2]))\r\n",
    "    scores['F-1'].append(float(scores_list[3]))\r\n"
   ]
  },
  {
   "cell_type": "code",
   "execution_count": null,
   "metadata": {
    "id": "7eIWnf23Xag8"
   },
   "outputs": [],
   "source": [
    "read_scores('Prod1_Vader.txt')\r\n",
    "read_scores('prod1_Kmeans_Word2Vec_scores.txt')\r\n",
    "read_scores('prod1_Kmeans_SOM_scores.txt')\r\n",
    "read_scores('Prod2_Vader.txt')\r\n",
    "read_scores('prod2_Kmeans_Word2Vec_scores.txt')\r\n",
    "read_scores('prod2_Kmeans_SOM_scores.txt')\r\n",
    "read_scores('Prod3_Vader.txt')\r\n",
    "read_scores('prod3_Kmeans_Word2Vec_scores.txt')\r\n",
    "read_scores('prod3_Kmeans_SOM_scores.txt')"
   ]
  },
  {
   "cell_type": "code",
   "execution_count": null,
   "metadata": {
    "colab": {
     "base_uri": "https://localhost:8080/",
     "height": 331
    },
    "id": "Lt06m7PKYBJo",
    "outputId": "577a8054-4f5c-4e06-f061-18a7a077cb4f"
   },
   "outputs": [
    {
     "data": {
      "text/html": [
       "<div>\n",
       "<style scoped>\n",
       "    .dataframe tbody tr th:only-of-type {\n",
       "        vertical-align: middle;\n",
       "    }\n",
       "\n",
       "    .dataframe tbody tr th {\n",
       "        vertical-align: top;\n",
       "    }\n",
       "\n",
       "    .dataframe thead th {\n",
       "        text-align: right;\n",
       "    }\n",
       "</style>\n",
       "<table border=\"1\" class=\"dataframe\">\n",
       "  <thead>\n",
       "    <tr style=\"text-align: right;\">\n",
       "      <th></th>\n",
       "      <th>Product</th>\n",
       "      <th>Model</th>\n",
       "      <th>Accuracy</th>\n",
       "      <th>Precision</th>\n",
       "      <th>Recall</th>\n",
       "      <th>F-1</th>\n",
       "    </tr>\n",
       "  </thead>\n",
       "  <tbody>\n",
       "    <tr>\n",
       "      <th>0</th>\n",
       "      <td>Product 1</td>\n",
       "      <td>VADER</td>\n",
       "      <td>0.85</td>\n",
       "      <td>0.84</td>\n",
       "      <td>0.99</td>\n",
       "      <td>0.91</td>\n",
       "    </tr>\n",
       "    <tr>\n",
       "      <th>1</th>\n",
       "      <td>Product 1</td>\n",
       "      <td>KMeans Word2Vec</td>\n",
       "      <td>0.69</td>\n",
       "      <td>0.90</td>\n",
       "      <td>0.68</td>\n",
       "      <td>0.77</td>\n",
       "    </tr>\n",
       "    <tr>\n",
       "      <th>2</th>\n",
       "      <td>Product 1</td>\n",
       "      <td>KMeans SOM</td>\n",
       "      <td>0.46</td>\n",
       "      <td>0.71</td>\n",
       "      <td>0.54</td>\n",
       "      <td>0.61</td>\n",
       "    </tr>\n",
       "    <tr>\n",
       "      <th>3</th>\n",
       "      <td>Product 2</td>\n",
       "      <td>VADER</td>\n",
       "      <td>0.79</td>\n",
       "      <td>0.83</td>\n",
       "      <td>0.93</td>\n",
       "      <td>0.88</td>\n",
       "    </tr>\n",
       "    <tr>\n",
       "      <th>4</th>\n",
       "      <td>Product 2</td>\n",
       "      <td>KMeans Word2Vec</td>\n",
       "      <td>0.55</td>\n",
       "      <td>0.80</td>\n",
       "      <td>0.56</td>\n",
       "      <td>0.66</td>\n",
       "    </tr>\n",
       "    <tr>\n",
       "      <th>5</th>\n",
       "      <td>Product 2</td>\n",
       "      <td>KMeans SOM</td>\n",
       "      <td>0.50</td>\n",
       "      <td>0.76</td>\n",
       "      <td>0.51</td>\n",
       "      <td>0.61</td>\n",
       "    </tr>\n",
       "    <tr>\n",
       "      <th>6</th>\n",
       "      <td>Product 3</td>\n",
       "      <td>VADER</td>\n",
       "      <td>0.86</td>\n",
       "      <td>0.87</td>\n",
       "      <td>0.97</td>\n",
       "      <td>0.92</td>\n",
       "    </tr>\n",
       "    <tr>\n",
       "      <th>7</th>\n",
       "      <td>Product 3</td>\n",
       "      <td>KMeans Word2Vec</td>\n",
       "      <td>0.80</td>\n",
       "      <td>0.92</td>\n",
       "      <td>0.82</td>\n",
       "      <td>0.87</td>\n",
       "    </tr>\n",
       "    <tr>\n",
       "      <th>8</th>\n",
       "      <td>Product 3</td>\n",
       "      <td>KMeans SOM</td>\n",
       "      <td>0.41</td>\n",
       "      <td>0.83</td>\n",
       "      <td>0.37</td>\n",
       "      <td>0.51</td>\n",
       "    </tr>\n",
       "  </tbody>\n",
       "</table>\n",
       "</div>"
      ],
      "text/plain": [
       "     Product            Model  Accuracy  Precision  Recall   F-1\n",
       "0  Product 1            VADER      0.85       0.84    0.99  0.91\n",
       "1  Product 1  KMeans Word2Vec      0.69       0.90    0.68  0.77\n",
       "2  Product 1       KMeans SOM      0.46       0.71    0.54  0.61\n",
       "3  Product 2            VADER      0.79       0.83    0.93  0.88\n",
       "4  Product 2  KMeans Word2Vec      0.55       0.80    0.56  0.66\n",
       "5  Product 2       KMeans SOM      0.50       0.76    0.51  0.61\n",
       "6  Product 3            VADER      0.86       0.87    0.97  0.92\n",
       "7  Product 3  KMeans Word2Vec      0.80       0.92    0.82  0.87\n",
       "8  Product 3       KMeans SOM      0.41       0.83    0.37  0.51"
      ]
     },
     "execution_count": 19,
     "metadata": {
      "tags": []
     },
     "output_type": "execute_result"
    }
   ],
   "source": [
    "scores_df= pd.DataFrame(scores) #df for scores data\r\n",
    "scores_df"
   ]
  },
  {
   "cell_type": "code",
   "execution_count": null,
   "metadata": {
    "id": "JYUt7wRQZGZw"
   },
   "outputs": [],
   "source": [
    "prod1_scores= scores_df[scores_df.Product=='Product 1']\r\n",
    "prod2_scores= scores_df[scores_df.Product=='Product 2']\r\n",
    "prod3_scores= scores_df[scores_df.Product=='Product 3']"
   ]
  },
  {
   "cell_type": "code",
   "execution_count": null,
   "metadata": {
    "colab": {
     "base_uri": "https://localhost:8080/",
     "height": 104
    },
    "id": "utHNZLTxanDW",
    "outputId": "377bf9a8-fc28-4b13-acc6-666302cecfb1"
   },
   "outputs": [
    {
     "data": {
      "text/html": [
       "<style  type=\"text/css\" >\n",
       "#T_7a78160c_874e_11eb_ad76_0242ac1c0002row0_col2,#T_7a78160c_874e_11eb_ad76_0242ac1c0002row0_col4,#T_7a78160c_874e_11eb_ad76_0242ac1c0002row0_col5,#T_7a78160c_874e_11eb_ad76_0242ac1c0002row1_col3{\n",
       "            background-color:  lightgreen;\n",
       "        }</style><table id=\"T_7a78160c_874e_11eb_ad76_0242ac1c0002\" ><thead>    <tr>        <th class=\"blank level0\" ></th>        <th class=\"col_heading level0 col0\" >Product</th>        <th class=\"col_heading level0 col1\" >Model</th>        <th class=\"col_heading level0 col2\" >Accuracy</th>        <th class=\"col_heading level0 col3\" >Precision</th>        <th class=\"col_heading level0 col4\" >Recall</th>        <th class=\"col_heading level0 col5\" >F-1</th>    </tr></thead><tbody>\n",
       "                <tr>\n",
       "                        <th id=\"T_7a78160c_874e_11eb_ad76_0242ac1c0002level0_row0\" class=\"row_heading level0 row0\" >0</th>\n",
       "                        <td id=\"T_7a78160c_874e_11eb_ad76_0242ac1c0002row0_col0\" class=\"data row0 col0\" >Product 1</td>\n",
       "                        <td id=\"T_7a78160c_874e_11eb_ad76_0242ac1c0002row0_col1\" class=\"data row0 col1\" >VADER</td>\n",
       "                        <td id=\"T_7a78160c_874e_11eb_ad76_0242ac1c0002row0_col2\" class=\"data row0 col2\" >0.850000</td>\n",
       "                        <td id=\"T_7a78160c_874e_11eb_ad76_0242ac1c0002row0_col3\" class=\"data row0 col3\" >0.840000</td>\n",
       "                        <td id=\"T_7a78160c_874e_11eb_ad76_0242ac1c0002row0_col4\" class=\"data row0 col4\" >0.990000</td>\n",
       "                        <td id=\"T_7a78160c_874e_11eb_ad76_0242ac1c0002row0_col5\" class=\"data row0 col5\" >0.910000</td>\n",
       "            </tr>\n",
       "            <tr>\n",
       "                        <th id=\"T_7a78160c_874e_11eb_ad76_0242ac1c0002level0_row1\" class=\"row_heading level0 row1\" >1</th>\n",
       "                        <td id=\"T_7a78160c_874e_11eb_ad76_0242ac1c0002row1_col0\" class=\"data row1 col0\" >Product 1</td>\n",
       "                        <td id=\"T_7a78160c_874e_11eb_ad76_0242ac1c0002row1_col1\" class=\"data row1 col1\" >KMeans Word2Vec</td>\n",
       "                        <td id=\"T_7a78160c_874e_11eb_ad76_0242ac1c0002row1_col2\" class=\"data row1 col2\" >0.690000</td>\n",
       "                        <td id=\"T_7a78160c_874e_11eb_ad76_0242ac1c0002row1_col3\" class=\"data row1 col3\" >0.900000</td>\n",
       "                        <td id=\"T_7a78160c_874e_11eb_ad76_0242ac1c0002row1_col4\" class=\"data row1 col4\" >0.680000</td>\n",
       "                        <td id=\"T_7a78160c_874e_11eb_ad76_0242ac1c0002row1_col5\" class=\"data row1 col5\" >0.770000</td>\n",
       "            </tr>\n",
       "            <tr>\n",
       "                        <th id=\"T_7a78160c_874e_11eb_ad76_0242ac1c0002level0_row2\" class=\"row_heading level0 row2\" >2</th>\n",
       "                        <td id=\"T_7a78160c_874e_11eb_ad76_0242ac1c0002row2_col0\" class=\"data row2 col0\" >Product 1</td>\n",
       "                        <td id=\"T_7a78160c_874e_11eb_ad76_0242ac1c0002row2_col1\" class=\"data row2 col1\" >KMeans SOM</td>\n",
       "                        <td id=\"T_7a78160c_874e_11eb_ad76_0242ac1c0002row2_col2\" class=\"data row2 col2\" >0.460000</td>\n",
       "                        <td id=\"T_7a78160c_874e_11eb_ad76_0242ac1c0002row2_col3\" class=\"data row2 col3\" >0.710000</td>\n",
       "                        <td id=\"T_7a78160c_874e_11eb_ad76_0242ac1c0002row2_col4\" class=\"data row2 col4\" >0.540000</td>\n",
       "                        <td id=\"T_7a78160c_874e_11eb_ad76_0242ac1c0002row2_col5\" class=\"data row2 col5\" >0.610000</td>\n",
       "            </tr>\n",
       "    </tbody></table>"
      ],
      "text/plain": [
       "<pandas.io.formats.style.Styler at 0x7f5dac8e5450>"
      ]
     },
     "execution_count": 28,
     "metadata": {
      "tags": []
     },
     "output_type": "execute_result"
    }
   ],
   "source": [
    "prod1_scores.style.highlight_max(color = 'lightgreen', axis = 0)\r\n"
   ]
  },
  {
   "cell_type": "code",
   "execution_count": null,
   "metadata": {
    "colab": {
     "base_uri": "https://localhost:8080/",
     "height": 104
    },
    "id": "9RcY6w0CbYLv",
    "outputId": "feb03c9b-e58b-4c30-f6c4-8b07d43258f9"
   },
   "outputs": [
    {
     "data": {
      "text/html": [
       "<style  type=\"text/css\" >\n",
       "#T_59fd75de_874e_11eb_ad76_0242ac1c0002row0_col2,#T_59fd75de_874e_11eb_ad76_0242ac1c0002row0_col3,#T_59fd75de_874e_11eb_ad76_0242ac1c0002row0_col4,#T_59fd75de_874e_11eb_ad76_0242ac1c0002row0_col5{\n",
       "            background-color:  lightgreen;\n",
       "        }</style><table id=\"T_59fd75de_874e_11eb_ad76_0242ac1c0002\" ><thead>    <tr>        <th class=\"blank level0\" ></th>        <th class=\"col_heading level0 col0\" >Product</th>        <th class=\"col_heading level0 col1\" >Model</th>        <th class=\"col_heading level0 col2\" >Accuracy</th>        <th class=\"col_heading level0 col3\" >Precision</th>        <th class=\"col_heading level0 col4\" >Recall</th>        <th class=\"col_heading level0 col5\" >F-1</th>    </tr></thead><tbody>\n",
       "                <tr>\n",
       "                        <th id=\"T_59fd75de_874e_11eb_ad76_0242ac1c0002level0_row0\" class=\"row_heading level0 row0\" >3</th>\n",
       "                        <td id=\"T_59fd75de_874e_11eb_ad76_0242ac1c0002row0_col0\" class=\"data row0 col0\" >Product 2</td>\n",
       "                        <td id=\"T_59fd75de_874e_11eb_ad76_0242ac1c0002row0_col1\" class=\"data row0 col1\" >VADER</td>\n",
       "                        <td id=\"T_59fd75de_874e_11eb_ad76_0242ac1c0002row0_col2\" class=\"data row0 col2\" >0.790000</td>\n",
       "                        <td id=\"T_59fd75de_874e_11eb_ad76_0242ac1c0002row0_col3\" class=\"data row0 col3\" >0.830000</td>\n",
       "                        <td id=\"T_59fd75de_874e_11eb_ad76_0242ac1c0002row0_col4\" class=\"data row0 col4\" >0.930000</td>\n",
       "                        <td id=\"T_59fd75de_874e_11eb_ad76_0242ac1c0002row0_col5\" class=\"data row0 col5\" >0.880000</td>\n",
       "            </tr>\n",
       "            <tr>\n",
       "                        <th id=\"T_59fd75de_874e_11eb_ad76_0242ac1c0002level0_row1\" class=\"row_heading level0 row1\" >4</th>\n",
       "                        <td id=\"T_59fd75de_874e_11eb_ad76_0242ac1c0002row1_col0\" class=\"data row1 col0\" >Product 2</td>\n",
       "                        <td id=\"T_59fd75de_874e_11eb_ad76_0242ac1c0002row1_col1\" class=\"data row1 col1\" >KMeans Word2Vec</td>\n",
       "                        <td id=\"T_59fd75de_874e_11eb_ad76_0242ac1c0002row1_col2\" class=\"data row1 col2\" >0.550000</td>\n",
       "                        <td id=\"T_59fd75de_874e_11eb_ad76_0242ac1c0002row1_col3\" class=\"data row1 col3\" >0.800000</td>\n",
       "                        <td id=\"T_59fd75de_874e_11eb_ad76_0242ac1c0002row1_col4\" class=\"data row1 col4\" >0.560000</td>\n",
       "                        <td id=\"T_59fd75de_874e_11eb_ad76_0242ac1c0002row1_col5\" class=\"data row1 col5\" >0.660000</td>\n",
       "            </tr>\n",
       "            <tr>\n",
       "                        <th id=\"T_59fd75de_874e_11eb_ad76_0242ac1c0002level0_row2\" class=\"row_heading level0 row2\" >5</th>\n",
       "                        <td id=\"T_59fd75de_874e_11eb_ad76_0242ac1c0002row2_col0\" class=\"data row2 col0\" >Product 2</td>\n",
       "                        <td id=\"T_59fd75de_874e_11eb_ad76_0242ac1c0002row2_col1\" class=\"data row2 col1\" >KMeans SOM</td>\n",
       "                        <td id=\"T_59fd75de_874e_11eb_ad76_0242ac1c0002row2_col2\" class=\"data row2 col2\" >0.500000</td>\n",
       "                        <td id=\"T_59fd75de_874e_11eb_ad76_0242ac1c0002row2_col3\" class=\"data row2 col3\" >0.760000</td>\n",
       "                        <td id=\"T_59fd75de_874e_11eb_ad76_0242ac1c0002row2_col4\" class=\"data row2 col4\" >0.510000</td>\n",
       "                        <td id=\"T_59fd75de_874e_11eb_ad76_0242ac1c0002row2_col5\" class=\"data row2 col5\" >0.610000</td>\n",
       "            </tr>\n",
       "    </tbody></table>"
      ],
      "text/plain": [
       "<pandas.io.formats.style.Styler at 0x7f5dac8f8110>"
      ]
     },
     "execution_count": 24,
     "metadata": {
      "tags": []
     },
     "output_type": "execute_result"
    }
   ],
   "source": [
    "prod2_scores.style.highlight_max(color = 'lightgreen', axis = 0)"
   ]
  },
  {
   "cell_type": "code",
   "execution_count": null,
   "metadata": {
    "colab": {
     "base_uri": "https://localhost:8080/",
     "height": 104
    },
    "id": "VF96efImcIT_",
    "outputId": "8965526f-c2c8-4ff9-f984-a53fbdd1e234"
   },
   "outputs": [
    {
     "data": {
      "text/html": [
       "<style  type=\"text/css\" >\n",
       "#T_5ca8fc90_874e_11eb_ad76_0242ac1c0002row0_col2,#T_5ca8fc90_874e_11eb_ad76_0242ac1c0002row0_col4,#T_5ca8fc90_874e_11eb_ad76_0242ac1c0002row0_col5,#T_5ca8fc90_874e_11eb_ad76_0242ac1c0002row1_col3{\n",
       "            background-color:  lightgreen;\n",
       "        }</style><table id=\"T_5ca8fc90_874e_11eb_ad76_0242ac1c0002\" ><thead>    <tr>        <th class=\"blank level0\" ></th>        <th class=\"col_heading level0 col0\" >Product</th>        <th class=\"col_heading level0 col1\" >Model</th>        <th class=\"col_heading level0 col2\" >Accuracy</th>        <th class=\"col_heading level0 col3\" >Precision</th>        <th class=\"col_heading level0 col4\" >Recall</th>        <th class=\"col_heading level0 col5\" >F-1</th>    </tr></thead><tbody>\n",
       "                <tr>\n",
       "                        <th id=\"T_5ca8fc90_874e_11eb_ad76_0242ac1c0002level0_row0\" class=\"row_heading level0 row0\" >6</th>\n",
       "                        <td id=\"T_5ca8fc90_874e_11eb_ad76_0242ac1c0002row0_col0\" class=\"data row0 col0\" >Product 3</td>\n",
       "                        <td id=\"T_5ca8fc90_874e_11eb_ad76_0242ac1c0002row0_col1\" class=\"data row0 col1\" >VADER</td>\n",
       "                        <td id=\"T_5ca8fc90_874e_11eb_ad76_0242ac1c0002row0_col2\" class=\"data row0 col2\" >0.860000</td>\n",
       "                        <td id=\"T_5ca8fc90_874e_11eb_ad76_0242ac1c0002row0_col3\" class=\"data row0 col3\" >0.870000</td>\n",
       "                        <td id=\"T_5ca8fc90_874e_11eb_ad76_0242ac1c0002row0_col4\" class=\"data row0 col4\" >0.970000</td>\n",
       "                        <td id=\"T_5ca8fc90_874e_11eb_ad76_0242ac1c0002row0_col5\" class=\"data row0 col5\" >0.920000</td>\n",
       "            </tr>\n",
       "            <tr>\n",
       "                        <th id=\"T_5ca8fc90_874e_11eb_ad76_0242ac1c0002level0_row1\" class=\"row_heading level0 row1\" >7</th>\n",
       "                        <td id=\"T_5ca8fc90_874e_11eb_ad76_0242ac1c0002row1_col0\" class=\"data row1 col0\" >Product 3</td>\n",
       "                        <td id=\"T_5ca8fc90_874e_11eb_ad76_0242ac1c0002row1_col1\" class=\"data row1 col1\" >KMeans Word2Vec</td>\n",
       "                        <td id=\"T_5ca8fc90_874e_11eb_ad76_0242ac1c0002row1_col2\" class=\"data row1 col2\" >0.800000</td>\n",
       "                        <td id=\"T_5ca8fc90_874e_11eb_ad76_0242ac1c0002row1_col3\" class=\"data row1 col3\" >0.920000</td>\n",
       "                        <td id=\"T_5ca8fc90_874e_11eb_ad76_0242ac1c0002row1_col4\" class=\"data row1 col4\" >0.820000</td>\n",
       "                        <td id=\"T_5ca8fc90_874e_11eb_ad76_0242ac1c0002row1_col5\" class=\"data row1 col5\" >0.870000</td>\n",
       "            </tr>\n",
       "            <tr>\n",
       "                        <th id=\"T_5ca8fc90_874e_11eb_ad76_0242ac1c0002level0_row2\" class=\"row_heading level0 row2\" >8</th>\n",
       "                        <td id=\"T_5ca8fc90_874e_11eb_ad76_0242ac1c0002row2_col0\" class=\"data row2 col0\" >Product 3</td>\n",
       "                        <td id=\"T_5ca8fc90_874e_11eb_ad76_0242ac1c0002row2_col1\" class=\"data row2 col1\" >KMeans SOM</td>\n",
       "                        <td id=\"T_5ca8fc90_874e_11eb_ad76_0242ac1c0002row2_col2\" class=\"data row2 col2\" >0.410000</td>\n",
       "                        <td id=\"T_5ca8fc90_874e_11eb_ad76_0242ac1c0002row2_col3\" class=\"data row2 col3\" >0.830000</td>\n",
       "                        <td id=\"T_5ca8fc90_874e_11eb_ad76_0242ac1c0002row2_col4\" class=\"data row2 col4\" >0.370000</td>\n",
       "                        <td id=\"T_5ca8fc90_874e_11eb_ad76_0242ac1c0002row2_col5\" class=\"data row2 col5\" >0.510000</td>\n",
       "            </tr>\n",
       "    </tbody></table>"
      ],
      "text/plain": [
       "<pandas.io.formats.style.Styler at 0x7f5dacb87950>"
      ]
     },
     "execution_count": 25,
     "metadata": {
      "tags": []
     },
     "output_type": "execute_result"
    }
   ],
   "source": [
    "prod3_scores.style.highlight_max(color = 'lightgreen', axis = 0)"
   ]
  },
  {
   "cell_type": "markdown",
   "metadata": {
    "id": "ROvnKsqJPHDA"
   },
   "source": [
    "**We can see that VADER outperforms when it comes to recall and f-1 but KMeans is great when it comes to precision.**"
   ]
  },
  {
   "cell_type": "markdown",
   "metadata": {
    "id": "HO1eb0Q0OMI0"
   },
   "source": [
    "## Conclusion, Recommendation and Future Steps"
   ]
  },
  {
   "cell_type": "markdown",
   "metadata": {
    "id": "-71b9pt1ORHh"
   },
   "source": [
    "### Business Recommendation\r\n",
    "\r\n",
    "- From our analysis we found that there is an exponentital relation between the price and number of reviews. More the reviews can also be correlated with the popularity of the product\r\n",
    "\r\n",
    "- For Luxury Brands to make their ranking on amazon and get more positive sentiments they need to create strong descriptions as well as use the sentiments from these products for price optimization\r\n",
    "\r\n",
    "- For market researchers, different unsupervised sentiment analysis techniques can go a long way rather than just abiding by the rule based or corpus based approach. \r\n",
    "\r\n",
    "\r\n",
    "\r\n"
   ]
  },
  {
   "cell_type": "markdown",
   "metadata": {
    "id": "5ch33FQeZ1Od"
   },
   "source": [
    "### Data Science Recommendations\r\n",
    "\r\n",
    "- If the decision makers care about recall and F-1 Score, VADER is a good model. If they care about Precision alone, they can use K-Means with Word2Vec\r\n",
    "\r\n",
    "- The models we used are not very optimized. Especially SOM which requires more data as well as computationally faster infrastructure. We can fine-tune them to create as good results as VADER. \r\n",
    "\r\n",
    "- More expertise from Beauty Product experts can help us decide more ways to prepare the text and remove/modify tokens accordingly"
   ]
  }
 ],
 "metadata": {
  "colab": {
   "collapsed_sections": [],
   "name": "Team11_FinalReport_LuxuryBeautyProducts_SentimentAnalysis.ipynb",
   "provenance": [],
   "toc_visible": true
  },
  "kernelspec": {
   "display_name": "Python 3",
   "language": "python",
   "name": "python3"
  },
  "language_info": {
   "codemirror_mode": {
    "name": "ipython",
    "version": 3
   },
   "file_extension": ".py",
   "mimetype": "text/x-python",
   "name": "python",
   "nbconvert_exporter": "python",
   "pygments_lexer": "ipython3",
   "version": "3.8.3"
  }
 },
 "nbformat": 4,
 "nbformat_minor": 4
}
